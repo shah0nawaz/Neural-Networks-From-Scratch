{
 "cells": [
  {
   "cell_type": "code",
   "execution_count": 4,
   "id": "d62d5ba7-c453-416a-b590-9a59fac39e35",
   "metadata": {},
   "outputs": [],
   "source": [
    "import torch\n",
    "import matplotlib.pyplot as plt\n",
    "import torch.nn.functional as F\n",
    "import random\n",
    "%matplotlib inline\n"
   ]
  },
  {
   "cell_type": "code",
   "execution_count": 5,
   "id": "b180b3f5-abbd-441c-8319-a4aff1aed055",
   "metadata": {},
   "outputs": [
    {
     "data": {
      "text/plain": [
       "['emma',\n",
       " 'olivia',\n",
       " 'ava',\n",
       " 'isabella',\n",
       " 'sophia',\n",
       " 'charlotte',\n",
       " 'mia',\n",
       " 'amelia',\n",
       " 'harper',\n",
       " 'evelyn']"
      ]
     },
     "execution_count": 5,
     "metadata": {},
     "output_type": "execute_result"
    }
   ],
   "source": [
    "words = open('names.txt').read().splitlines()\n",
    "words[:10]"
   ]
  },
  {
   "cell_type": "code",
   "execution_count": 8,
   "id": "17d569d9-3c88-4bce-bb63-bd669c157a60",
   "metadata": {},
   "outputs": [],
   "source": [
    "def stoi_itos(words):\n",
    "    vocab = sorted(list(set(''.join(words))))\n",
    "    stoi = {s:i+1 for i,s in enumerate(vocab)}\n",
    "    stoi['.']  = 0\n",
    "    itos = {i:s for s,i in stoi.items()}\n",
    "    return stoi, itos, len(words)\n"
   ]
  },
  {
   "cell_type": "markdown",
   "id": "fe3be3f3-80d6-4a4e-a371-3f33d5fe6ffb",
   "metadata": {},
   "source": [
    "# Build Dataset\n",
    "- read the names from the names.txt\n",
    "- find the vocab or character in the name.txt file\n",
    "- Chose the block-size and make example dataset from the names\n",
    "- X: input to the model\n",
    "- Y: output by the model during traing"
   ]
  },
  {
   "cell_type": "code",
   "execution_count": 33,
   "id": "f8066dac-417a-40b1-b8fb-5c7f79f15331",
   "metadata": {},
   "outputs": [],
   "source": [
    "import random\n",
    "def build_dataset(file_path='names.txt', context_len = 3):\n",
    "    words = open('names.txt').read().splitlines()\n",
    "    random.shuffle(words)\n",
    "    stoi,itos,vocab_size  = stoi_itos(words)\n",
    "    X = []\n",
    "    Y = []\n",
    "    blocks_size  = context_len\n",
    "    for w in words:\n",
    "        \n",
    "        context= [0]*blocks_size\n",
    "        \n",
    "        for char in w + '.': \n",
    "            ix = stoi[char]\n",
    "            X.append(context)\n",
    "            Y.append(ix)\n",
    "            # print(''.join([ itos[char] for char in context]), '---> ', itos[ix])\n",
    "            # print(context)\n",
    "            context = context[1:] + [ix]\n",
    "            # print(context)\n",
    "    X = torch.tensor(X)\n",
    "    Y = torch.tensor(Y)\n",
    "    x1 = int(0.8*len(words))\n",
    "    x2 = int(0.9*len(words))\n",
    "    \n",
    "    dataset ={'train': [X[0:x1] , Y[0:x1]], 'val': [X[x1:x2], Y[x1:x2]], 'test': [X[x2:], Y[x2:]]}\n",
    "    return dataset\n",
    "\n",
    "\n",
    "    "
   ]
  },
  {
   "cell_type": "code",
   "execution_count": 34,
   "id": "31bfd4d8-7e33-45f1-971f-28e24418acfc",
   "metadata": {},
   "outputs": [],
   "source": [
    "dataset = build_dataset(words)\n"
   ]
  },
  {
   "cell_type": "markdown",
   "id": "667960dd-2c78-46ba-8c0b-35418fe31dc1",
   "metadata": {},
   "source": [
    "# Initialize the Model\n",
    "- initialize the generator using torch.Generator().manual_seed(number)\n",
    "- Initialize the the embedding matrix C\n",
    "- "
   ]
  },
  {
   "cell_type": "code",
   "execution_count": 74,
   "id": "e802a801-7f15-4ebe-8086-03042b8ec98f",
   "metadata": {},
   "outputs": [],
   "source": [
    "def initialize_model(vocab_size, emb_dim,Input_data, layers_dim = []):\n",
    "    g = torch.Generator().manual_seed(2147483647)\n",
    "    C = torch.randn((vocab_size,emb_dim), generator=g)\n",
    "    W1 = torch.randn((Input_data.shape[1]*emb_dim, layers_dim[0] ), generator=g)\n",
    "    # print(W1.shape)\n",
    "    b1 = torch.randn(layers_dim[0], generator=g)\n",
    "    \n",
    "    W2 = torch.randn((layers_dim[0],vocab_size), generator=g)*0.01\n",
    "    b2 = torch.randn(vocab_size, generator=g)*0\n",
    "    \n",
    "    parameters = [C, W1,b1, W2,b2]\n",
    "    return parameters"
   ]
  },
  {
   "cell_type": "code",
   "execution_count": 94,
   "id": "ec0a501c-52d4-4eee-aad4-c2a7d1998750",
   "metadata": {},
   "outputs": [],
   "source": [
    "def model(X, parameters):\n",
    "    emb = parameters[0][X]\n",
    "    preact  =emb.view(-1,30)  @ parameters[1] + parameters[2]\n",
    "    a1 = torch.tanh(preact)\n",
    "    logits = a1 @ parameters[3] + parameters[4]\n",
    "    return logits,a1, preact"
   ]
  },
  {
   "cell_type": "code",
   "execution_count": 95,
   "id": "640181e1-49dd-45d6-a5d3-acedd96b9435",
   "metadata": {},
   "outputs": [],
   "source": [
    "def requires_grad(parameters):\n",
    "    for p in parameters:\n",
    "        p.requires_grad = True\n",
    "    return parameters"
   ]
  },
  {
   "cell_type": "markdown",
   "id": "0bb5b8d1-c381-414d-902d-92061f875899",
   "metadata": {},
   "source": [
    "# A very in-depth explination of how the tanh function issues of vanishing the gradient flow due to that most of its post activation values are closer to 1 and -1. and during backpropagation (1 - t**2).out.grad, (t is closer to -1 or 1) vanishes the gradients flowing backward towards the paramters #"
   ]
  },
  {
   "cell_type": "code",
   "execution_count": 96,
   "id": "1f04487a-ea55-4590-8d96-56876e8a4805",
   "metadata": {},
   "outputs": [
    {
     "name": "stdout",
     "output_type": "stream",
     "text": [
      "3.2554805278778076\n"
     ]
    }
   ],
   "source": [
    "import random\n",
    "context_len = 3\n",
    "data_path = 'names.txt'\n",
    "vocab_size = 27\n",
    "emb_dim=10\n",
    "layers_dim = [300,27]\n",
    "epochs = 90000\n",
    "dataset = build_dataset(words)\n",
    "Xtr,Ytr = dataset['train']\n",
    "Xval, Yval = dataset['val']\n",
    "Xtest, Ytest = dataset['test']\n",
    "# num_examples = len(X)\n",
    "# Xtr,Xval,Xtest = X[0:int(0.7*num_examples)], X[int(0.7*num_examples):int(0.9*num_examples)], X[int(0.9*num_examples): num_examples]\n",
    "# Ytr,Yval,Ytest = Y[0:int(0.7*num_examples)], Y[int(0.7*num_examples):int(0.9*num_examples)], Y[int(0.9*num_examples): num_examples]\n",
    "\n",
    "# print(Xtr.shape, Ytr.shape)\n",
    "parameters = initialize_model(vocab_size, emb_dim, Xtr, layers_dim = layers_dim)\n",
    "parameters = requires_grad(parameters)\n",
    "# print(X.shape)\n",
    "# print(Y.shape)\n",
    "\n",
    "lre = torch.linspace(-3,0, epochs)\n",
    "lrr = 10**lre\n",
    "\n",
    "#Forward Pass\n",
    "lri = []\n",
    "lossi = []\n",
    "stepi = []\n",
    "for i in range(epochs):\n",
    "    ix = torch.randint(0, Xtr.shape[0], (32,))\n",
    "    # print(Xtr[ix].shape)\n",
    "    logits, h, preact = model(Xtr[ix], parameters)\n",
    "    # print(logits.shape)\n",
    "    # Calculate Loss\n",
    "    loss = F.cross_entropy(logits, Ytr[ix])\n",
    "    for p in parameters:\n",
    "        p.grad = None\n",
    "    \n",
    "    # calculate the gradients\n",
    "    loss.backward()\n",
    "    \n",
    "    #Gradient Descent\n",
    "    lr = [0.1,0.01]\n",
    "    if i<=30000:\n",
    "        lr = lr[0]\n",
    "    else:\n",
    "        lr = lr[1]\n",
    "    for p in parameters:\n",
    "        p.data += -lr*p.grad\n",
    "    lossi.append(loss.log10().item())\n",
    "    lri.append(lr)\n",
    "    stepi.append(i)\n",
    "    break\n",
    "print(loss.item())\n"
   ]
  },
  {
   "cell_type": "code",
   "execution_count": 103,
   "id": "686ce683-311e-4382-9eb8-b6c032976fef",
   "metadata": {},
   "outputs": [
    {
     "data": {
      "text/plain": [
       "<matplotlib.image.AxesImage at 0x7fd2adbc4d30>"
      ]
     },
     "execution_count": 103,
     "metadata": {},
     "output_type": "execute_result"
    },
    {
     "data": {
      "image/png": "[encoded data removed]",
      "text/plain": [
       "<Figure size 2000x1000 with 1 Axes>"
      ]
     },
     "metadata": {},
     "output_type": "display_data"
    }
   ],
   "source": [
    "plt.figure(figsize = (20,10))\n",
    "plt.imshow(h.abs() > 0.99, cmap='gray', interpolation='nearest')"
   ]
  },
  {
   "cell_type": "code",
   "execution_count": 100,
   "id": "45393d0f-a476-44d0-98b8-f60686ac53b0",
   "metadata": {},
   "outputs": [
    {
     "data": {
      "image/png": "[encoded data removed]",
      "text/plain": [
       "<Figure size 640x480 with 1 Axes>"
      ]
     },
     "metadata": {},
     "output_type": "display_data"
    }
   ],
   "source": [
    "# logits[0]\n",
    "\n",
    "plt.hist(h.view(-1).tolist(),50);\n"
   ]
  },
  {
   "cell_type": "code",
   "execution_count": 101,
   "id": "100a4b04-b371-41fc-81a4-e086ca9c62de",
   "metadata": {},
   "outputs": [
    {
     "data": {
      "image/png": "[encoded data removed]",
      "text/plain": [
       "<Figure size 640x480 with 1 Axes>"
      ]
     },
     "metadata": {},
     "output_type": "display_data"
    }
   ],
   "source": [
    "plt.hist(preact.view(-1).tolist(),50);"
   ]
  },
  {
   "cell_type": "code",
   "execution_count": 99,
   "id": "05f158fd-70e7-417a-a758-f6647e706be9",
   "metadata": {},
   "outputs": [
    {
     "data": {
      "text/plain": [
       "[<matplotlib.lines.Line2D at 0x7fd2a38fa8e0>]"
      ]
     },
     "execution_count": 99,
     "metadata": {},
     "output_type": "execute_result"
    },
    {
     "data": {
      "image/png": "[encoded data removed]",
      "text/plain": [
       "<Figure size 640x480 with 1 Axes>"
      ]
     },
     "metadata": {},
     "output_type": "display_data"
    }
   ],
   "source": [
    "plt.plot(stepi, lossi)"
   ]
  },
  {
   "cell_type": "code",
   "execution_count": null,
   "id": "0be6662b-9529-47e8-bb61-38e16e7703ce",
   "metadata": {},
   "outputs": [],
   "source": []
  },
  {
   "cell_type": "code",
   "execution_count": 41,
   "id": "397a61be-5d71-4b1c-a3b3-fd6027039ed5",
   "metadata": {},
   "outputs": [
    {
     "data": {
      "text/plain": [
       "1.9535527229309082"
      ]
     },
     "execution_count": 41,
     "metadata": {},
     "output_type": "execute_result"
    }
   ],
   "source": [
    "logits = model(Xtr, parameters)\n",
    "loss = F.cross_entropy(logits, Ytr)\n",
    "loss.item()"
   ]
  },
  {
   "cell_type": "code",
   "execution_count": 42,
   "id": "79d85968-f0e9-4ac7-8965-cceea0c6151d",
   "metadata": {},
   "outputs": [
    {
     "data": {
      "text/plain": [
       "2.4519879817962646"
      ]
     },
     "execution_count": 42,
     "metadata": {},
     "output_type": "execute_result"
    }
   ],
   "source": [
    "logits = model(Xval, parameters)\n",
    "loss = F.cross_entropy(logits, Yval)\n",
    "loss.item()"
   ]
  },
  {
   "cell_type": "code",
   "execution_count": 43,
   "id": "3f44e5c9-77b5-4185-91cc-28c00bb73c7c",
   "metadata": {},
   "outputs": [
    {
     "data": {
      "text/plain": [
       "2.466986894607544"
      ]
     },
     "execution_count": 43,
     "metadata": {},
     "output_type": "execute_result"
    }
   ],
   "source": [
    "logits = model(Xtest, parameters)\n",
    "loss = F.cross_entropy(logits, Ytest)\n",
    "loss.item()"
   ]
  },
  {
   "cell_type": "code",
   "execution_count": 62,
   "id": "d2981dc4-82bf-4a7f-afbe-7b9fdc3cf40a",
   "metadata": {},
   "outputs": [
    {
     "data": {
      "text/plain": [
       "(tensor([-0.7792, -0.3176,  0.6212, -1.1631]),\n",
       " tensor([0.1365, 0.2166, 0.5539, 0.0930]),\n",
       " tensor(0.5908))"
      ]
     },
     "execution_count": 62,
     "metadata": {},
     "output_type": "execute_result"
    }
   ],
   "source": [
    "# logits = torch.tensor([3.0,0.0,0.0,0.0])\n",
    "logits = torch.randn(4)\n",
    "probs = torch.softmax(logits, dim=0)\n",
    "loss = -probs[2].log()\n",
    "logits, probs, loss"
   ]
  },
  {
   "cell_type": "code",
   "execution_count": 106,
   "id": "979feb1c-7e9f-4412-bc2b-62e6cbd11a2e",
   "metadata": {},
   "outputs": [
    {
     "data": {
      "image/png": "[encoded data removed]",
      "text/plain": [
       "<Figure size 800x800 with 1 Axes>"
      ]
     },
     "metadata": {},
     "output_type": "display_data"
    }
   ],
   "source": [
    "# This code was effect for the emb_dim=2\n",
    "# # plt.figure()\n",
    "# plt.figure(figsize=(8,8))\n",
    "# plt.scatter(parameters[0][:,0].data, parameters[0][:,1].data, s=200)\n",
    "# for i in range(parameters[0].shape[0]):\n",
    "#     plt.text(parameters[0][i,0].item(), parameters[0][i,1].item(), itos[i], ha='center', va='center', color='white')\n",
    "# plt.grid('minor')"
   ]
  },
  {
   "cell_type": "code",
   "execution_count": 46,
   "id": "f8faeed9-295a-4f39-92b1-91350a32fcd0",
   "metadata": {},
   "outputs": [
    {
     "name": "stdout",
     "output_type": "stream",
     "text": [
      "junrie.\n",
      "jayce.\n",
      "zophon.\n",
      "yoa.\n",
      "nya.\n",
      "jhir.\n",
      "toldashager.\n",
      "kilania.\n",
      "yanilee.\n",
      "ashdeyah.\n"
     ]
    }
   ],
   "source": [
    "import torch\n",
    "g = torch.Generator().manual_seed(2147483647)\n",
    "stoi,itos, vocab_size = stoi_itos(words)\n",
    "for i in range(10):\n",
    "    ix = 0\n",
    "    out = []\n",
    "    block_size = 3\n",
    "    context = [0] * block_size \n",
    "    while True:\n",
    "        emb = parameters[0][torch.tensor([context])]\n",
    "        a1 = torch.tanh(emb.view(-1,30) @ parameters[1] + parameters[2])\n",
    "        logits = a1 @ parameters[3] + parameters[4]\n",
    "        probs = F.softmax(logits ,dim=1)\n",
    "        ix = torch.multinomial(probs, num_samples=1, replacement=True, generator=g).item()\n",
    "        context = context[1:] + [ix]\n",
    "        out.append(itos[ix])\n",
    "        if ix==0:\n",
    "            break\n",
    "    print(''.join(out))"
   ]
  },
  {
   "cell_type": "code",
   "execution_count": 47,
   "id": "10ba49d8-4d90-432f-b0e1-1d05776a1803",
   "metadata": {},
   "outputs": [
    {
     "data": {
      "text/plain": [
       "tensor(3.2958)"
      ]
     },
     "execution_count": 47,
     "metadata": {},
     "output_type": "execute_result"
    }
   ],
   "source": [
    "-torch.tensor(1/27.0).log()"
   ]
  },
  {
   "cell_type": "code",
   "execution_count": null,
   "id": "f2893d20-ffdd-422a-8c5f-9af664998beb",
   "metadata": {},
   "outputs": [],
   "source": []
  }
 ],
 "metadata": {
  "kernelspec": {
   "display_name": "Python 3 (ipykernel)",
   "language": "python",
   "name": "python3"
  },
  "language_info": {
   "codemirror_mode": {
    "name": "ipython",
    "version": 3
   },
   "file_extension": ".py",
   "mimetype": "text/x-python",
   "name": "python",
   "nbconvert_exporter": "python",
   "pygments_lexer": "ipython3",
   "version": "3.9.19"
  }
 },
 "nbformat": 4,
 "nbformat_minor": 5
}
