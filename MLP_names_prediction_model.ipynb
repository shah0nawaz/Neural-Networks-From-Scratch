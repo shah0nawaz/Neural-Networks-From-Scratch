{
 "cells": [
  {
   "cell_type": "code",
   "execution_count": 160,
   "id": "d62d5ba7-c453-416a-b590-9a59fac39e35",
   "metadata": {},
   "outputs": [],
   "source": [
    "import torch\n",
    "import matplotlib.pyplot as plt\n",
    "import torch.nn.functional as F\n",
    "%matplotlib inline"
   ]
  },
  {
   "cell_type": "code",
   "execution_count": 161,
   "id": "b180b3f5-abbd-441c-8319-a4aff1aed055",
   "metadata": {},
   "outputs": [
    {
     "data": {
      "text/plain": [
       "['emma',\n",
       " 'olivia',\n",
       " 'ava',\n",
       " 'isabella',\n",
       " 'sophia',\n",
       " 'charlotte',\n",
       " 'mia',\n",
       " 'amelia',\n",
       " 'harper',\n",
       " 'evelyn']"
      ]
     },
     "execution_count": 161,
     "metadata": {},
     "output_type": "execute_result"
    }
   ],
   "source": [
    "words = open('names.txt').read().splitlines()\n",
    "words[:10]"
   ]
  },
  {
   "cell_type": "code",
   "execution_count": 163,
   "id": "17d569d9-3c88-4bce-bb63-bd669c157a60",
   "metadata": {},
   "outputs": [
    {
     "name": "stdout",
     "output_type": "stream",
     "text": [
      "26\n",
      "{'a': 1, 'b': 2, 'c': 3, 'd': 4, 'e': 5, 'f': 6, 'g': 7, 'h': 8, 'i': 9, 'j': 10, 'k': 11, 'l': 12, 'm': 13, 'n': 14, 'o': 15, 'p': 16, 'q': 17, 'r': 18, 's': 19, 't': 20, 'u': 21, 'v': 22, 'w': 23, 'x': 24, 'y': 25, 'z': 26, '.': 0}\n",
      "{1: 'a', 2: 'b', 3: 'c', 4: 'd', 5: 'e', 6: 'f', 7: 'g', 8: 'h', 9: 'i', 10: 'j', 11: 'k', 12: 'l', 13: 'm', 14: 'n', 15: 'o', 16: 'p', 17: 'q', 18: 'r', 19: 's', 20: 't', 21: 'u', 22: 'v', 23: 'w', 24: 'x', 25: 'y', 26: 'z', 0: '.'}\n"
     ]
    }
   ],
   "source": [
    "vocab = sorted(list(set(''.join(words))))\n",
    "print(len(vocab))\n",
    "\n",
    "stoi = {s:i+1 for i,s in enumerate(vocab)}\n",
    "stoi['.']  = 0\n",
    "\n",
    "itos = {i:s for s,i in stoi.items()}\n",
    "\n",
    "print(stoi)\n",
    "print(itos)"
   ]
  },
  {
   "cell_type": "code",
   "execution_count": 232,
   "id": "84891a20-34a1-409f-b192-f9a0fb377d8c",
   "metadata": {},
   "outputs": [],
   "source": [
    "X = []\n",
    "Y = []\n",
    "\n",
    "blocks_size  = 3\n",
    "for w in words:\n",
    "    \n",
    "    context= [0]*blocks_size\n",
    "    \n",
    "    for char in w + '.': \n",
    "        ix = stoi[char]\n",
    "        X.append(context)\n",
    "        Y.append(ix)\n",
    "        # print(''.join([ itos[char] for char in context]), '---> ', itos[ix])\n",
    "        # print(context)\n",
    "        context = context[1:] + [ix]\n",
    "        # print(context)\n",
    "X = torch.tensor(X)\n",
    "Y = torch.tensor(Y)"
   ]
  },
  {
   "cell_type": "code",
   "execution_count": 233,
   "id": "81c5f651-f4d6-4575-8e1d-f94d0f4a340c",
   "metadata": {},
   "outputs": [
    {
     "data": {
      "text/plain": [
       "(torch.Size([228146, 3]), torch.int64, torch.Size([228146]), torch.int64)"
      ]
     },
     "execution_count": 233,
     "metadata": {},
     "output_type": "execute_result"
    }
   ],
   "source": [
    "X.shape, X.dtype, Y.shape, Y.dtype"
   ]
  },
  {
   "cell_type": "code",
   "execution_count": 234,
   "id": "14ecae58-341a-430a-a566-9625213b4e81",
   "metadata": {},
   "outputs": [],
   "source": [
    "C = torch.randn(27,2)"
   ]
  },
  {
   "cell_type": "code",
   "execution_count": 235,
   "id": "0b12970a-bf4a-4368-9b66-0a171d19776d",
   "metadata": {},
   "outputs": [
    {
     "data": {
      "text/plain": [
       "torch.Size([27, 2])"
      ]
     },
     "execution_count": 235,
     "metadata": {},
     "output_type": "execute_result"
    }
   ],
   "source": [
    "C.shape"
   ]
  },
  {
   "cell_type": "code",
   "execution_count": 236,
   "id": "3cf6e1ef-db91-4cf0-92fb-be0804ec363e",
   "metadata": {},
   "outputs": [
    {
     "data": {
      "text/plain": [
       "torch.Size([27])"
      ]
     },
     "execution_count": 236,
     "metadata": {},
     "output_type": "execute_result"
    }
   ],
   "source": [
    "F.one_hot(torch.tensor(5), num_classes=27).float().shape"
   ]
  },
  {
   "cell_type": "code",
   "execution_count": 237,
   "id": "27e74801-b16f-4fa5-a822-56b83abe6d7b",
   "metadata": {},
   "outputs": [
    {
     "name": "stdout",
     "output_type": "stream",
     "text": [
      "torch.Size([228146, 3, 2])\n"
     ]
    },
    {
     "data": {
      "text/plain": [
       "torch.Size([228146, 6])"
      ]
     },
     "execution_count": 237,
     "metadata": {},
     "output_type": "execute_result"
    }
   ],
   "source": [
    "emb = C[X]\n",
    "print(emb.shape)\n",
    "# emb\n",
    "# incase of 3 block size\n",
    "# emb1 = torch.cat((emb[:, 0 ,:], emb[:, 1, :], emb[:, 2, :]), 1)\n",
    "# emb1.shape\n",
    "\n",
    "# emb1 = torch.cat(torch.unbind(emb, 1),1)\n",
    "# emb1.shape\n",
    "# emb1.storage()\n",
    "emb = emb.view(-1,6) \n",
    "emb.shape"
   ]
  },
  {
   "cell_type": "code",
   "execution_count": 238,
   "id": "c44fc776-fe89-4ca0-b71b-6152595affef",
   "metadata": {},
   "outputs": [],
   "source": [
    "w1 = torch.randn(6, 100)\n",
    "b1 = torch.randn(100)\n"
   ]
  },
  {
   "cell_type": "code",
   "execution_count": 239,
   "id": "8979c794-cc11-4791-b99f-87d0b08dddf3",
   "metadata": {},
   "outputs": [
    {
     "data": {
      "text/plain": [
       "torch.Size([228146, 100])"
      ]
     },
     "execution_count": 239,
     "metadata": {},
     "output_type": "execute_result"
    }
   ],
   "source": [
    "a = torch.tanh(emb @ w1 + b1)\n",
    "a.shape"
   ]
  },
  {
   "cell_type": "code",
   "execution_count": 240,
   "id": "a6e46f73-68bc-4c68-993a-0c84897fa179",
   "metadata": {},
   "outputs": [],
   "source": [
    "w2 = torch.randn(100,27)\n",
    "b2 = torch.randn(27)"
   ]
  },
  {
   "cell_type": "code",
   "execution_count": 241,
   "id": "f97c3829-6850-493f-9bd0-1999ebacabd8",
   "metadata": {
    "scrolled": true
   },
   "outputs": [
    {
     "data": {
      "text/plain": [
       "tensor([[1.8319e-06, 1.0000e-10, 6.7310e-10,  ..., 3.1865e-05, 4.8936e-04,\n",
       "         2.9702e-04],\n",
       "        [3.0040e-06, 5.8218e-06, 2.0156e-02,  ..., 2.1299e-17, 6.6942e-05,\n",
       "         3.0086e-05],\n",
       "        [2.6241e-04, 3.4477e-08, 3.2657e-11,  ..., 1.0019e-13, 1.0172e-09,\n",
       "         3.0758e-08],\n",
       "        ...,\n",
       "        [7.9281e-07, 1.5591e-12, 9.8452e-11,  ..., 7.4900e-17, 1.4907e-06,\n",
       "         2.8131e-07],\n",
       "        [2.9121e-08, 1.7315e-08, 3.4201e-08,  ..., 9.1377e-01, 2.5151e-05,\n",
       "         1.0455e-10],\n",
       "        [5.2798e-08, 1.6000e-03, 2.1720e-05,  ..., 2.0492e-11, 3.1634e-07,\n",
       "         1.2663e-06]])"
      ]
     },
     "execution_count": 241,
     "metadata": {},
     "output_type": "execute_result"
    }
   ],
   "source": [
    "logits = a @ w2 + b2\n",
    "counts = logits.exp()\n",
    "prob = counts / counts.sum(1, keepdims=True)\n",
    "prob.shape\n",
    "prob"
   ]
  },
  {
   "cell_type": "code",
   "execution_count": 242,
   "id": "f3a05011-3c01-43a9-bea4-29e486ed6dc3",
   "metadata": {},
   "outputs": [
    {
     "ename": "IndexError",
     "evalue": "shape mismatch: indexing tensors could not be broadcast together with shapes [32], [228146]",
     "output_type": "error",
     "traceback": [
      "\u001b[0;31m---------------------------------------------------------------------------\u001b[0m",
      "\u001b[0;31mIndexError\u001b[0m                                Traceback (most recent call last)",
      "Cell \u001b[0;32mIn[242], line 1\u001b[0m\n\u001b[0;32m----> 1\u001b[0m loss \u001b[38;5;241m=\u001b[39m \u001b[38;5;241m-\u001b[39m\u001b[43mprob\u001b[49m\u001b[43m[\u001b[49m\u001b[43mtorch\u001b[49m\u001b[38;5;241;43m.\u001b[39;49m\u001b[43marange\u001b[49m\u001b[43m(\u001b[49m\u001b[38;5;241;43m32\u001b[39;49m\u001b[43m)\u001b[49m\u001b[43m,\u001b[49m\u001b[43m \u001b[49m\u001b[43mY\u001b[49m\u001b[43m]\u001b[49m\u001b[38;5;241m.\u001b[39mlog()\u001b[38;5;241m.\u001b[39mmean()\n\u001b[1;32m      2\u001b[0m loss\n",
      "\u001b[0;31mIndexError\u001b[0m: shape mismatch: indexing tensors could not be broadcast together with shapes [32], [228146]"
     ]
    }
   ],
   "source": [
    "loss = -prob[torch.arange(32), Y].log().mean()\n",
    "loss"
   ]
  },
  {
   "cell_type": "code",
   "execution_count": 213,
   "id": "10c2baac-9a79-4010-bf39-0242c8712438",
   "metadata": {},
   "outputs": [
    {
     "data": {
      "text/plain": [
       "tensor(13.7715)"
      ]
     },
     "execution_count": 213,
     "metadata": {},
     "output_type": "execute_result"
    }
   ],
   "source": [
    "F.cross_entropy(logits, Y)"
   ]
  },
  {
   "cell_type": "code",
   "execution_count": 319,
   "id": "c290759b-f595-4e38-832f-64b601739e19",
   "metadata": {},
   "outputs": [
    {
     "name": "stdout",
     "output_type": "stream",
     "text": [
      "torch.Size([6, 100])\n"
     ]
    }
   ],
   "source": [
    "# Initialization\n",
    "g = torch.Generator().manual_seed(2147483647)\n",
    "C = torch.randn((27,2), generator=g)\n",
    "W1 = torch.randn((X.shape[1]*C.shape[1], 100 ), generator=g)\n",
    "print(W1.shape)\n",
    "b1 = torch.randn(100, generator=g)\n",
    "\n",
    "W2 = torch.randn((100,C.shape[0]), generator=g)\n",
    "b2 = torch.randn(C.shape[0], generator=g)\n",
    "\n",
    "parameters = [C, W1,b1, W2,b2]\n"
   ]
  },
  {
   "cell_type": "code",
   "execution_count": 320,
   "id": "9d33e3b0-3d9d-4ed1-b4aa-cd5d99ea9127",
   "metadata": {},
   "outputs": [],
   "source": [
    "for p in parameters:\n",
    "    p.requires_grad = True"
   ]
  },
  {
   "cell_type": "code",
   "execution_count": 321,
   "id": "e841411c-5872-4674-85d0-d74a3fcbd124",
   "metadata": {},
   "outputs": [
    {
     "data": {
      "text/plain": [
       "tensor([ 44834,   9965, 142827,  19690,  28909, 151193,  98814,  77205, 200132,\n",
       "         97104, 157626, 199801,  67761, 154673,  85191, 130434, 170429, 166670,\n",
       "         76583,  89408,  18961, 141856, 101277, 148829, 138831,  42289,   9829,\n",
       "         52058,  16735, 200355, 152655, 118869])"
      ]
     },
     "execution_count": 321,
     "metadata": {},
     "output_type": "execute_result"
    }
   ],
   "source": [
    "ix = torch.randint(0, X.shape[0], (32,))\n",
    "ix"
   ]
  },
  {
   "cell_type": "code",
   "execution_count": 322,
   "id": "0ebb39d8-904d-4baf-92dc-e5579be6a22a",
   "metadata": {},
   "outputs": [
    {
     "data": {
      "text/plain": [
       "1000"
      ]
     },
     "execution_count": 322,
     "metadata": {},
     "output_type": "execute_result"
    }
   ],
   "source": [
    "lre = torch.linspace(-3,0, 1000)\n",
    "lrr = 10**lre\n",
    "len(lrr)"
   ]
  },
  {
   "cell_type": "code",
   "execution_count": 326,
   "id": "1f04487a-ea55-4590-8d96-56876e8a4805",
   "metadata": {},
   "outputs": [
    {
     "name": "stdout",
     "output_type": "stream",
     "text": [
      "2.1202478408813477\n"
     ]
    }
   ],
   "source": [
    "\n",
    "#Forward Pass\n",
    "lri = []\n",
    "lossi = []\n",
    "for i in range(10000):\n",
    "    ix = torch.randint(0, X.shape[0], (32,))\n",
    "    emb = C[X[ix]]\n",
    "    a1 = torch.tanh(emb.view(-1,X.shape[1]*C.shape[1]) @ W1 + b1 )\n",
    "    logits = a1 @ W2 + b2\n",
    "    # Calculate Loss\n",
    "    loss = F.cross_entropy(logits, Y[ix])\n",
    "    \n",
    "    # torch.zero_grad model.parameters\n",
    "    \n",
    "    for p in parameters:\n",
    "        p.grad = None\n",
    "    \n",
    "    # calculate the gradients\n",
    "    loss.backward()\n",
    "    \n",
    "    #Gradient Descent\n",
    "    lr = 0.01\n",
    "    for p in parameters:\n",
    "        p.data += -lr*p.grad\n",
    "    # lossi.append(loss.item())\n",
    "    # lri.append(lr)\n",
    "print(loss.item())\n",
    "# plt.plot(lri, lossi)"
   ]
  },
  {
   "cell_type": "code",
   "execution_count": 294,
   "id": "397a61be-5d71-4b1c-a3b3-fd6027039ed5",
   "metadata": {},
   "outputs": [
    {
     "data": {
      "text/plain": [
       "3.574902057647705"
      ]
     },
     "execution_count": 294,
     "metadata": {},
     "output_type": "execute_result"
    }
   ],
   "source": [
    "emb = C[X]\n",
    "a1 = torch.tanh(emb.view(-1,X.shape[1]*C.shape[1]) @ W1 + b1 )\n",
    "logits = a1 @ W2 + b2\n",
    "# Calculate Loss\n",
    "loss = F.cross_entropy(logits, Y)\n",
    "loss.item()"
   ]
  },
  {
   "cell_type": "code",
   "execution_count": null,
   "id": "979feb1c-7e9f-4412-bc2b-62e6cbd11a2e",
   "metadata": {},
   "outputs": [],
   "source": []
  }
 ],
 "metadata": {
  "kernelspec": {
   "display_name": "Python 3 (ipykernel)",
   "language": "python",
   "name": "python3"
  },
  "language_info": {
   "codemirror_mode": {
    "name": "ipython",
    "version": 3
   },
   "file_extension": ".py",
   "mimetype": "text/x-python",
   "name": "python",
   "nbconvert_exporter": "python",
   "pygments_lexer": "ipython3",
   "version": "3.9.19"
  }
 },
 "nbformat": 4,
 "nbformat_minor": 5
}
