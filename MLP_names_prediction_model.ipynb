{
 "cells": [
  {
   "cell_type": "code",
   "execution_count": 48,
   "id": "d62d5ba7-c453-416a-b590-9a59fac39e35",
   "metadata": {},
   "outputs": [],
   "source": [
    "import torch\n",
    "import matplotlib.pyplot as plt\n",
    "import torch.nn.functional as F\n",
    "%matplotlib inline"
   ]
  },
  {
   "cell_type": "code",
   "execution_count": 49,
   "id": "b180b3f5-abbd-441c-8319-a4aff1aed055",
   "metadata": {},
   "outputs": [
    {
     "data": {
      "text/plain": [
       "['emma',\n",
       " 'olivia',\n",
       " 'ava',\n",
       " 'isabella',\n",
       " 'sophia',\n",
       " 'charlotte',\n",
       " 'mia',\n",
       " 'amelia',\n",
       " 'harper',\n",
       " 'evelyn']"
      ]
     },
     "execution_count": 49,
     "metadata": {},
     "output_type": "execute_result"
    }
   ],
   "source": [
    "words = open('names.txt').read().splitlines()\n",
    "words[:10]"
   ]
  },
  {
   "cell_type": "code",
   "execution_count": 50,
   "id": "17d569d9-3c88-4bce-bb63-bd669c157a60",
   "metadata": {},
   "outputs": [
    {
     "name": "stdout",
     "output_type": "stream",
     "text": [
      "26\n",
      "{'a': 1, 'b': 2, 'c': 3, 'd': 4, 'e': 5, 'f': 6, 'g': 7, 'h': 8, 'i': 9, 'j': 10, 'k': 11, 'l': 12, 'm': 13, 'n': 14, 'o': 15, 'p': 16, 'q': 17, 'r': 18, 's': 19, 't': 20, 'u': 21, 'v': 22, 'w': 23, 'x': 24, 'y': 25, 'z': 26, '.': 0}\n",
      "{1: 'a', 2: 'b', 3: 'c', 4: 'd', 5: 'e', 6: 'f', 7: 'g', 8: 'h', 9: 'i', 10: 'j', 11: 'k', 12: 'l', 13: 'm', 14: 'n', 15: 'o', 16: 'p', 17: 'q', 18: 'r', 19: 's', 20: 't', 21: 'u', 22: 'v', 23: 'w', 24: 'x', 25: 'y', 26: 'z', 0: '.'}\n"
     ]
    }
   ],
   "source": [
    "vocab = sorted(list(set(''.join(words))))\n",
    "print(len(vocab))\n",
    "\n",
    "stoi = {s:i+1 for i,s in enumerate(vocab)}\n",
    "stoi['.']  = 0\n",
    "\n",
    "itos = {i:s for s,i in stoi.items()}\n",
    "\n",
    "print(stoi)\n",
    "print(itos)"
   ]
  },
  {
   "cell_type": "code",
   "execution_count": 51,
   "id": "84891a20-34a1-409f-b192-f9a0fb377d8c",
   "metadata": {},
   "outputs": [],
   "source": [
    "def build_dataset(words):\n",
    "    \n",
    "    vocab = sorted(list(set(''.join(words))))\n",
    "    stoi = {s:i+1 for i,s in enumerate(vocab)}\n",
    "    stoi['.']  = 0\n",
    "    itos = {i:s for s,i in stoi.items()}\n",
    "\n",
    "    X = []\n",
    "    Y = []\n",
    "    blocks_size  = 3\n",
    "    for w in words:\n",
    "        \n",
    "        context= [0]*blocks_size\n",
    "        \n",
    "        for char in w + '.': \n",
    "            ix = stoi[char]\n",
    "            X.append(context)\n",
    "            Y.append(ix)\n",
    "            # print(''.join([ itos[char] for char in context]), '---> ', itos[ix])\n",
    "            # print(context)\n",
    "            context = context[1:] + [ix]\n",
    "            # print(context)\n",
    "    X = torch.tensor(X)\n",
    "    Y = torch.tensor(Y)\n",
    "    return X,Y"
   ]
  },
  {
   "cell_type": "code",
   "execution_count": 5,
   "id": "81c5f651-f4d6-4575-8e1d-f94d0f4a340c",
   "metadata": {},
   "outputs": [
    {
     "data": {
      "text/plain": [
       "(torch.Size([228146, 3]), torch.int64, torch.Size([228146]), torch.int64)"
      ]
     },
     "execution_count": 5,
     "metadata": {},
     "output_type": "execute_result"
    }
   ],
   "source": [
    "X,Y = build_dataset(words)\n",
    "X.shape, X.dtype, Y.shape, Y.dtype"
   ]
  },
  {
   "cell_type": "code",
   "execution_count": 52,
   "id": "14ecae58-341a-430a-a566-9625213b4e81",
   "metadata": {},
   "outputs": [],
   "source": [
    "C = torch.randn(27,2)"
   ]
  },
  {
   "cell_type": "code",
   "execution_count": 53,
   "id": "0b12970a-bf4a-4368-9b66-0a171d19776d",
   "metadata": {},
   "outputs": [
    {
     "data": {
      "text/plain": [
       "torch.Size([27, 2])"
      ]
     },
     "execution_count": 53,
     "metadata": {},
     "output_type": "execute_result"
    }
   ],
   "source": [
    "C.shape"
   ]
  },
  {
   "cell_type": "code",
   "execution_count": 236,
   "id": "3cf6e1ef-db91-4cf0-92fb-be0804ec363e",
   "metadata": {},
   "outputs": [
    {
     "data": {
      "text/plain": [
       "torch.Size([27])"
      ]
     },
     "execution_count": 236,
     "metadata": {},
     "output_type": "execute_result"
    }
   ],
   "source": [
    "F.one_hot(torch.tensor(5), num_classes=27).float().shape"
   ]
  },
  {
   "cell_type": "code",
   "execution_count": 237,
   "id": "27e74801-b16f-4fa5-a822-56b83abe6d7b",
   "metadata": {},
   "outputs": [
    {
     "name": "stdout",
     "output_type": "stream",
     "text": [
      "torch.Size([228146, 3, 2])\n"
     ]
    },
    {
     "data": {
      "text/plain": [
       "torch.Size([228146, 6])"
      ]
     },
     "execution_count": 237,
     "metadata": {},
     "output_type": "execute_result"
    }
   ],
   "source": [
    "emb = C[X]\n",
    "print(emb.shape)\n",
    "# emb\n",
    "# incase of 3 block size\n",
    "# emb1 = torch.cat((emb[:, 0 ,:], emb[:, 1, :], emb[:, 2, :]), 1)\n",
    "# emb1.shape\n",
    "\n",
    "# emb1 = torch.cat(torch.unbind(emb, 1),1)\n",
    "# emb1.shape\n",
    "# emb1.storage()\n",
    "emb = emb.view(-1,6) \n",
    "emb.shape"
   ]
  },
  {
   "cell_type": "code",
   "execution_count": 238,
   "id": "c44fc776-fe89-4ca0-b71b-6152595affef",
   "metadata": {},
   "outputs": [],
   "source": [
    "w1 = torch.randn(6, 100)\n",
    "b1 = torch.randn(100)\n"
   ]
  },
  {
   "cell_type": "code",
   "execution_count": 239,
   "id": "8979c794-cc11-4791-b99f-87d0b08dddf3",
   "metadata": {},
   "outputs": [
    {
     "data": {
      "text/plain": [
       "torch.Size([228146, 100])"
      ]
     },
     "execution_count": 239,
     "metadata": {},
     "output_type": "execute_result"
    }
   ],
   "source": [
    "a = torch.tanh(emb @ w1 + b1)\n",
    "a.shape"
   ]
  },
  {
   "cell_type": "code",
   "execution_count": 240,
   "id": "a6e46f73-68bc-4c68-993a-0c84897fa179",
   "metadata": {},
   "outputs": [],
   "source": [
    "w2 = torch.randn(100,27)\n",
    "b2 = torch.randn(27)"
   ]
  },
  {
   "cell_type": "code",
   "execution_count": 241,
   "id": "f97c3829-6850-493f-9bd0-1999ebacabd8",
   "metadata": {
    "scrolled": true
   },
   "outputs": [
    {
     "data": {
      "text/plain": [
       "tensor([[1.8319e-06, 1.0000e-10, 6.7310e-10,  ..., 3.1865e-05, 4.8936e-04,\n",
       "         2.9702e-04],\n",
       "        [3.0040e-06, 5.8218e-06, 2.0156e-02,  ..., 2.1299e-17, 6.6942e-05,\n",
       "         3.0086e-05],\n",
       "        [2.6241e-04, 3.4477e-08, 3.2657e-11,  ..., 1.0019e-13, 1.0172e-09,\n",
       "         3.0758e-08],\n",
       "        ...,\n",
       "        [7.9281e-07, 1.5591e-12, 9.8452e-11,  ..., 7.4900e-17, 1.4907e-06,\n",
       "         2.8131e-07],\n",
       "        [2.9121e-08, 1.7315e-08, 3.4201e-08,  ..., 9.1377e-01, 2.5151e-05,\n",
       "         1.0455e-10],\n",
       "        [5.2798e-08, 1.6000e-03, 2.1720e-05,  ..., 2.0492e-11, 3.1634e-07,\n",
       "         1.2663e-06]])"
      ]
     },
     "execution_count": 241,
     "metadata": {},
     "output_type": "execute_result"
    }
   ],
   "source": [
    "logits = a @ w2 + b2\n",
    "counts = logits.exp()\n",
    "prob = counts / counts.sum(1, keepdims=True)\n",
    "prob.shape\n",
    "prob"
   ]
  },
  {
   "cell_type": "code",
   "execution_count": 242,
   "id": "f3a05011-3c01-43a9-bea4-29e486ed6dc3",
   "metadata": {},
   "outputs": [
    {
     "ename": "IndexError",
     "evalue": "shape mismatch: indexing tensors could not be broadcast together with shapes [32], [228146]",
     "output_type": "error",
     "traceback": [
      "\u001b[0;31m---------------------------------------------------------------------------\u001b[0m",
      "\u001b[0;31mIndexError\u001b[0m                                Traceback (most recent call last)",
      "Cell \u001b[0;32mIn[242], line 1\u001b[0m\n\u001b[0;32m----> 1\u001b[0m loss \u001b[38;5;241m=\u001b[39m \u001b[38;5;241m-\u001b[39m\u001b[43mprob\u001b[49m\u001b[43m[\u001b[49m\u001b[43mtorch\u001b[49m\u001b[38;5;241;43m.\u001b[39;49m\u001b[43marange\u001b[49m\u001b[43m(\u001b[49m\u001b[38;5;241;43m32\u001b[39;49m\u001b[43m)\u001b[49m\u001b[43m,\u001b[49m\u001b[43m \u001b[49m\u001b[43mY\u001b[49m\u001b[43m]\u001b[49m\u001b[38;5;241m.\u001b[39mlog()\u001b[38;5;241m.\u001b[39mmean()\n\u001b[1;32m      2\u001b[0m loss\n",
      "\u001b[0;31mIndexError\u001b[0m: shape mismatch: indexing tensors could not be broadcast together with shapes [32], [228146]"
     ]
    }
   ],
   "source": [
    "loss = -prob[torch.arange(32), Y].log().mean()\n",
    "loss"
   ]
  },
  {
   "cell_type": "code",
   "execution_count": 213,
   "id": "10c2baac-9a79-4010-bf39-0242c8712438",
   "metadata": {},
   "outputs": [
    {
     "data": {
      "text/plain": [
       "tensor(13.7715)"
      ]
     },
     "execution_count": 213,
     "metadata": {},
     "output_type": "execute_result"
    }
   ],
   "source": [
    "F.cross_entropy(logits, Y)"
   ]
  },
  {
   "cell_type": "code",
   "execution_count": 54,
   "id": "c290759b-f595-4e38-832f-64b601739e19",
   "metadata": {},
   "outputs": [],
   "source": [
    "# Initialization\n",
    "def initialize_model():\n",
    "    g = torch.Generator().manual_seed(2147483647)\n",
    "    C = torch.randn((27,2), generator=g)\n",
    "    W1 = torch.randn((X.shape[1]*C.shape[1], 100 ), generator=g)\n",
    "    # print(W1.shape)\n",
    "    b1 = torch.randn(100, generator=g)\n",
    "    \n",
    "    W2 = torch.randn((100,C.shape[0]), generator=g)\n",
    "    b2 = torch.randn(C.shape[0], generator=g)\n",
    "    \n",
    "    parameters = [C, W1,b1, W2,b2]\n",
    "    return parameters\n",
    "\n",
    "parameters = initialize_model()"
   ]
  },
  {
   "cell_type": "code",
   "execution_count": 55,
   "id": "9d33e3b0-3d9d-4ed1-b4aa-cd5d99ea9127",
   "metadata": {},
   "outputs": [],
   "source": [
    "for p in parameters:\n",
    "    p.requires_grad = True"
   ]
  },
  {
   "cell_type": "code",
   "execution_count": 57,
   "id": "e841411c-5872-4674-85d0-d74a3fcbd124",
   "metadata": {},
   "outputs": [
    {
     "data": {
      "text/plain": [
       "tensor([  4732, 177376, 205624, 221122, 203349,  72105, 152967, 139187,   6962,\n",
       "         97952,  50979,    101, 211067, 194800, 107758,  50838, 142384,  97228,\n",
       "         78671,  68147, 159406,  48358, 183278,  27199,  16637, 216318,  43669,\n",
       "         80558, 148543, 190165, 187957, 184620])"
      ]
     },
     "execution_count": 57,
     "metadata": {},
     "output_type": "execute_result"
    }
   ],
   "source": [
    "ix = torch.randint(0, X.shape[0], (32,))\n",
    "ix"
   ]
  },
  {
   "cell_type": "code",
   "execution_count": 56,
   "id": "0ebb39d8-904d-4baf-92dc-e5579be6a22a",
   "metadata": {},
   "outputs": [
    {
     "data": {
      "text/plain": [
       "1000"
      ]
     },
     "execution_count": 56,
     "metadata": {},
     "output_type": "execute_result"
    }
   ],
   "source": [
    "lre = torch.linspace(-3,0, 1000)\n",
    "lrr = 10**lre\n",
    "len(lrr)"
   ]
  },
  {
   "cell_type": "markdown",
   "id": "fe3be3f3-80d6-4a4e-a371-3f33d5fe6ffb",
   "metadata": {},
   "source": [
    "# Build Dataset\n",
    "- read the names from the names.txt\n",
    "- find the vocab or character in the name.txt file\n",
    "- Chose the block-size and make example dataset from the names\n",
    "- X: input to the model\n",
    "- Y: output by the model during traing"
   ]
  },
  {
   "cell_type": "code",
   "execution_count": 77,
   "id": "f8066dac-417a-40b1-b8fb-5c7f79f15331",
   "metadata": {},
   "outputs": [],
   "source": [
    "import random\n",
    "def build_dataset(file_path, context_len):\n",
    "    words = open('names.txt', 'r').read().splitlines()\n",
    "    random.shuffle(words)\n",
    "    \n",
    "    vocab = sorted(list(set(''.join(words))))\n",
    "    stoi = {s:i+1 for i,s in enumerate(vocab)}\n",
    "    stoi['.']  = 0\n",
    "    itos = {i:s for s,i in stoi.items()}\n",
    "\n",
    "    X = []\n",
    "    Y = []\n",
    "    blocks_size  = context_len\n",
    "    for w in words:\n",
    "        \n",
    "        context= [0]*blocks_size\n",
    "        \n",
    "        for char in w + '.': \n",
    "            ix = stoi[char]\n",
    "            X.append(context)\n",
    "            Y.append(ix)\n",
    "            # print(''.join([ itos[char] for char in context]), '---> ', itos[ix])\n",
    "            # print(context)\n",
    "            context = context[1:] + [ix]\n",
    "            # print(context)\n",
    "    X = torch.tensor(X)\n",
    "    Y = torch.tensor(Y)\n",
    "    return X,Y"
   ]
  },
  {
   "cell_type": "markdown",
   "id": "667960dd-2c78-46ba-8c0b-35418fe31dc1",
   "metadata": {},
   "source": [
    "# Initialize the Model\n",
    "- initialize the generator using torch.Generator().manual_seed(number)\n",
    "- Initialize the the embedding matrix C\n",
    "- "
   ]
  },
  {
   "cell_type": "code",
   "execution_count": 78,
   "id": "e802a801-7f15-4ebe-8086-03042b8ec98f",
   "metadata": {},
   "outputs": [],
   "source": [
    "def initialize_model(vocab_size, emb_dim,Input_data, layers_dim = []):\n",
    "    g = torch.Generator().manual_seed(2147483647)\n",
    "    C = torch.randn((vocab_size,emb_dim), generator=g)\n",
    "    W1 = torch.randn((Input_data.shape[1]*emb_dim, layers_dim[0] ), generator=g)\n",
    "    # print(W1.shape)\n",
    "    b1 = torch.randn(layers_dim[0], generator=g)\n",
    "    \n",
    "    W2 = torch.randn((layers_dim[0],vocab_size), generator=g)\n",
    "    b2 = torch.randn(vocab_size, generator=g)\n",
    "    \n",
    "    parameters = [C, W1,b1, W2,b2]\n",
    "    return parameters"
   ]
  },
  {
   "cell_type": "code",
   "execution_count": null,
   "id": "758c8457-0e91-4df9-ba7a-480320742da2",
   "metadata": {},
   "outputs": [],
   "source": []
  },
  {
   "cell_type": "code",
   "execution_count": 93,
   "id": "ec0a501c-52d4-4eee-aad4-c2a7d1998750",
   "metadata": {},
   "outputs": [],
   "source": [
    "def model(X, parameters):\n",
    "    emb = parameters[0][X]\n",
    "    a1 = torch.tanh(emb.view(-1,30)  @ parameters[1] + parameters[2])\n",
    "    logits = a1 @ parameters[3] + parameters[4]\n",
    "    return logits"
   ]
  },
  {
   "cell_type": "code",
   "execution_count": 94,
   "id": "640181e1-49dd-45d6-a5d3-acedd96b9435",
   "metadata": {},
   "outputs": [],
   "source": [
    "def requires_grad(parameters):\n",
    "    for p in parameters:\n",
    "        p.requires_grad = True\n",
    "    return parameters"
   ]
  },
  {
   "cell_type": "code",
   "execution_count": 101,
   "id": "1f04487a-ea55-4590-8d96-56876e8a4805",
   "metadata": {},
   "outputs": [
    {
     "name": "stdout",
     "output_type": "stream",
     "text": [
      "2.067507028579712\n"
     ]
    }
   ],
   "source": [
    "import random\n",
    "context_len = 3\n",
    "data_path = 'names.txt'\n",
    "vocab_size = 27\n",
    "emb_dim=10\n",
    "layers_dim = [300,27]\n",
    "epochs = 90000\n",
    "X,Y = build_dataset(data_path, context_len)\n",
    "num_examples = len(X)\n",
    "Xtr,Xval,Xtest = X[0:int(0.7*num_examples)], X[int(0.7*num_examples):int(0.9*num_examples)], X[int(0.9*num_examples): num_examples]\n",
    "Ytr,Yval,Ytest = Y[0:int(0.7*num_examples)], Y[int(0.7*num_examples):int(0.9*num_examples)], Y[int(0.9*num_examples): num_examples]\n",
    "\n",
    "# print(Xtr.shape, Ytr.shape)\n",
    "parameters = initialize_model(vocab_size, emb_dim, X, layers_dim = layers_dim)\n",
    "parameters = requires_grad(parameters)\n",
    "# print(X.shape)\n",
    "# print(Y.shape)\n",
    "\n",
    "lre = torch.linspace(-3,0, epochs)\n",
    "lrr = 10**lre\n",
    "\n",
    "#Forward Pass\n",
    "lri = []\n",
    "lossi = []\n",
    "stepi = []\n",
    "for i in range(epochs):\n",
    "    ix = torch.randint(0, Xtr.shape[0], (32,))\n",
    "    # print(Xtr[ix].shape)\n",
    "    logits = model(Xtr[ix], parameters)\n",
    "    # print(logits.shape)\n",
    "    # Calculate Loss\n",
    "    loss = F.cross_entropy(logits, Ytr[ix])\n",
    "    for p in parameters:\n",
    "        p.grad = None\n",
    "    \n",
    "    # calculate the gradients\n",
    "    loss.backward()\n",
    "    \n",
    "    #Gradient Descent\n",
    "    lr = [0.1,0.01]\n",
    "    if i<=30000:\n",
    "        lr = lr[0]\n",
    "    else:\n",
    "        lr = lr[1]\n",
    "    for p in parameters:\n",
    "        p.data += -lr*p.grad\n",
    "    lossi.append(loss.log10().item())\n",
    "    lri.append(lr)\n",
    "    stepi.append(i)\n",
    "print(loss.item())\n"
   ]
  },
  {
   "cell_type": "code",
   "execution_count": 102,
   "id": "05f158fd-70e7-417a-a758-f6647e706be9",
   "metadata": {},
   "outputs": [
    {
     "data": {
      "text/plain": [
       "[<matplotlib.lines.Line2D at 0x7f3113e27be0>]"
      ]
     },
     "execution_count": 102,
     "metadata": {},
     "output_type": "execute_result"
    },
    {
     "data": {
      "image/png": "[encoded data removed]",
      "text/plain": [
       "<Figure size 640x480 with 1 Axes>"
      ]
     },
     "metadata": {},
     "output_type": "display_data"
    }
   ],
   "source": [
    "plt.plot(stepi, lossi)"
   ]
  },
  {
   "cell_type": "code",
   "execution_count": 96,
   "id": "397a61be-5d71-4b1c-a3b3-fd6027039ed5",
   "metadata": {},
   "outputs": [
    {
     "data": {
      "text/plain": [
       "2.2109315395355225"
      ]
     },
     "execution_count": 96,
     "metadata": {},
     "output_type": "execute_result"
    }
   ],
   "source": [
    "logits = model(Xtr, parameters)\n",
    "loss = F.cross_entropy(logits, Ytr)\n",
    "loss.item()"
   ]
  },
  {
   "cell_type": "code",
   "execution_count": 97,
   "id": "79d85968-f0e9-4ac7-8965-cceea0c6151d",
   "metadata": {},
   "outputs": [
    {
     "data": {
      "text/plain": [
       "2.265597343444824"
      ]
     },
     "execution_count": 97,
     "metadata": {},
     "output_type": "execute_result"
    }
   ],
   "source": [
    "logits = model(Xval, parameters)\n",
    "loss = F.cross_entropy(logits, Yval)\n",
    "loss.item()"
   ]
  },
  {
   "cell_type": "code",
   "execution_count": 98,
   "id": "3f44e5c9-77b5-4185-91cc-28c00bb73c7c",
   "metadata": {},
   "outputs": [
    {
     "data": {
      "text/plain": [
       "2.2726242542266846"
      ]
     },
     "execution_count": 98,
     "metadata": {},
     "output_type": "execute_result"
    }
   ],
   "source": [
    "logits = model(Xtest, parameters)\n",
    "loss = F.cross_entropy(logits, Ytest)\n",
    "loss.item()"
   ]
  },
  {
   "cell_type": "code",
   "execution_count": 99,
   "id": "979feb1c-7e9f-4412-bc2b-62e6cbd11a2e",
   "metadata": {},
   "outputs": [
    {
     "data": {
      "image/png": "[encoded data removed]",
      "text/plain": [
       "<Figure size 800x800 with 1 Axes>"
      ]
     },
     "metadata": {},
     "output_type": "display_data"
    }
   ],
   "source": [
    "# plt.figure()\n",
    "plt.figure(figsize=(8,8))\n",
    "plt.scatter(parameters[0][:,0].data, parameters[0][:,1].data, s=200)\n",
    "for i in range(parameters[0].shape[0]):\n",
    "    plt.text(parameters[0][i,0].item(), parameters[0][i,1].item(), itos[i], ha='center', va='center', color='white')\n",
    "plt.grid('minor')"
   ]
  },
  {
   "cell_type": "code",
   "execution_count": null,
   "id": "f8faeed9-295a-4f39-92b1-91350a32fcd0",
   "metadata": {},
   "outputs": [],
   "source": []
  }
 ],
 "metadata": {
  "kernelspec": {
   "display_name": "Python 3 (ipykernel)",
   "language": "python",
   "name": "python3"
  },
  "language_info": {
   "codemirror_mode": {
    "name": "ipython",
    "version": 3
   },
   "file_extension": ".py",
   "mimetype": "text/x-python",
   "name": "python",
   "nbconvert_exporter": "python",
   "pygments_lexer": "ipython3",
   "version": "3.9.19"
  }
 },
 "nbformat": 4,
 "nbformat_minor": 5
}
