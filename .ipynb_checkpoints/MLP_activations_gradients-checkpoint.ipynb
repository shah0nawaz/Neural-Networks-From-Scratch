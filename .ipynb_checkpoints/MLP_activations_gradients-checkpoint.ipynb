{
 "cells": [
  {
   "cell_type": "code",
   "execution_count": 1,
   "id": "d62d5ba7-c453-416a-b590-9a59fac39e35",
   "metadata": {},
   "outputs": [],
   "source": [
    "import torch\n",
    "import matplotlib.pyplot as plt\n",
    "import torch.nn.functional as F\n",
    "import random\n",
    "%matplotlib inline"
   ]
  },
  {
   "cell_type": "code",
   "execution_count": 2,
   "id": "858e7b84-068a-4c63-afb4-62f2ba81d101",
   "metadata": {},
   "outputs": [
    {
     "data": {
      "text/plain": [
       "['emma', 'olivia', 'ava', 'isabella', 'sophia']"
      ]
     },
     "execution_count": 2,
     "metadata": {},
     "output_type": "execute_result"
    }
   ],
   "source": [
    "words = open('names.txt').read().splitlines()\n",
    "words[:5]"
   ]
  },
  {
   "cell_type": "code",
   "execution_count": 3,
   "id": "b180b3f5-abbd-441c-8319-a4aff1aed055",
   "metadata": {},
   "outputs": [],
   "source": [
    "vocab = sorted(list(set(''.join(words))))"
   ]
  },
  {
   "cell_type": "code",
   "execution_count": 4,
   "id": "68712a06-0c30-46bf-b7b6-9ed2f6655dcc",
   "metadata": {},
   "outputs": [],
   "source": [
    "# words Indexing\n",
    "stoi = {s:i+1 for i,s in enumerate(vocab)}\n",
    "stoi['.'] = 0\n",
    "itos = {i:s for s,i in stoi.items()}\n"
   ]
  },
  {
   "cell_type": "code",
   "execution_count": null,
   "id": "17d569d9-3c88-4bce-bb63-bd669c157a60",
   "metadata": {},
   "outputs": [],
   "source": [
    "  "
   ]
  },
  {
   "cell_type": "markdown",
   "id": "fe3be3f3-80d6-4a4e-a371-3f33d5fe6ffb",
   "metadata": {},
   "source": [
    "# Build Dataset\n",
    "- read the names from the names.txt\n",
    "- find the vocab or character in the name.txt file\n",
    "- Chose the block-size and make example dataset from the names\n",
    "- X: input to the model\n",
    "- Y: output by the model during traing"
   ]
  },
  {
   "cell_type": "code",
   "execution_count": 5,
   "id": "f8066dac-417a-40b1-b8fb-5c7f79f15331",
   "metadata": {},
   "outputs": [],
   "source": [
    "import random \n",
    "random.shuffle(words)\n",
    "\n",
    "# Sudo Code\n",
    "# define the contect length\n",
    "# 1. read each word from words\n",
    "# 2. read each letter from each w + '.'\n",
    "# 3. for each letter extract the index of that letter and add it to the input context window and also extract the next letter in the word as output\n",
    "\n",
    "\n",
    "Y = []\n",
    "X = []\n",
    "block_size = 3\n",
    "for w in words:\n",
    "    context = [0]*block_size\n",
    "    for char in w + '.':\n",
    "        ix = stoi[char]\n",
    "        X.append(context)\n",
    "        Y.append(ix)\n",
    "        context = context[1:] + [ix]\n",
    "\n",
    "# Convert the input tokenized letters into torch tensor\n",
    "Y = torch.tensor(Y)\n",
    "X = torch.tensor(X)\n",
    "\n",
    "# split the data into train val and test sets\n",
    "\n",
    "x1 = int(0.8*len(words))\n",
    "x2 = int(0.9*len(words))\n",
    "\n",
    "dataset ={'train': [X[0:x1] , Y[0:x1]], 'val': [X[x1:x2], Y[x1:x2]], 'test': [X[x2:], Y[x2:]]}\n",
    "\n",
    "dataset['train'][0].shape\n",
    "\n",
    "Xtr,Ytr = dataset['train']\n",
    "Xval, Yval = dataset['val']\n",
    "Xtest, Ytest = dataset['test']"
   ]
  },
  {
   "cell_type": "code",
   "execution_count": 14,
   "id": "e248d929-6088-4fb8-8e19-13d5142c8e83",
   "metadata": {},
   "outputs": [
    {
     "name": "stdout",
     "output_type": "stream",
     "text": [
      "11697\n"
     ]
    }
   ],
   "source": [
    "# Initializing the hacky wieghts\n",
    "\n",
    "# vocab_size = 27\n",
    "# n_embd = 10 \n",
    "# n_hidden = 200 \n",
    "# g = torch.Generator().manual_seed(2147483647) # for reproducibility\n",
    "# C  = torch.randn((vocab_size, n_embd),            generator=g)\n",
    "# W1 = torch.randn((n_embd * block_size, n_hidden), generator=g) \n",
    "# b1 = torch.randn(n_hidden,                        generator=g)\n",
    "# W2 = torch.randn((n_hidden, vocab_size),          generator=g)\n",
    "# b2 = torch.randn(vocab_size,                      generator=g) \n",
    "\n",
    "\n",
    "# parameters = [C, W1, W2, b2]\n",
    "# print(sum(p.nelement() for p in parameters)) # number of parameters in total\n",
    "# for p in parameters:\n",
    "#   p.requires_grad = True\n",
    "\n",
    "# Initializing the weight closer to zero inorder to control the output of post tahn activation in a control manner\n",
    "\n",
    "# vocab_size = 27\n",
    "# n_embd = 10 \n",
    "# n_hidden = 200 \n",
    "# g = torch.Generator().manual_seed(2147483647) # for reproducibility\n",
    "# C  = torch.randn((vocab_size, n_embd),            generator=g)\n",
    "# W1 = torch.randn((n_embd * block_size, n_hidden), generator=g)*0.01 \n",
    "# b1 = torch.randn(n_hidden,                        generator=g)*0\n",
    "# W2 = torch.randn((n_hidden, vocab_size),          generator=g)*0.01\n",
    "# b2 = torch.randn(vocab_size,                      generator=g)*0 \n",
    "\n",
    "\n",
    "# parameters = [C, W1, W2, b2]\n",
    "# print(sum(p.nelement() for p in parameters)) # number of parameters in total\n",
    "# for p in parameters:\n",
    "#   p.requires_grad = True\n",
    "\n",
    "\n",
    "# initializing the wieghts with kamming he initialization method\n",
    "\n",
    "# g = torch.Generator().manual_seed(2147483647) # for reproducibility\n",
    "# C  = torch.randn((vocab_size, n_embd),            generator=g)\n",
    "# W1 = torch.randn((n_embd * block_size, n_hidden), generator=g) * (5/3)* ((n_embd * block_size)**0.5)\n",
    "# b1 = torch.randn(n_hidden,                        generator=g) * 0.01\n",
    "# W2 = torch.randn((n_hidden, vocab_size),          generator=g) * 0.01\n",
    "# b2 = torch.randn(vocab_size,                      generator=g) * 0\n",
    "\n",
    "\n",
    "# parameters = [C, W1, W2, b2]\n",
    "# print(sum(p.nelement() for p in parameters)) # number of parameters in total\n",
    "# for p in parameters:\n",
    "#   p.requires_grad = True\n",
    "\n",
    "\n",
    "g = torch.Generator().manual_seed(2147483647) # for reproducibility\n",
    "C  = torch.randn((vocab_size, n_embd),            generator=g)\n",
    "W1 = torch.randn((n_embd * block_size, n_hidden), generator=g) * (5/3)* ((n_embd * block_size)**0.5)\n",
    "b1 = torch.randn(n_hidden,                        generator=g) * 0.01\n",
    "W2 = torch.randn((n_hidden, vocab_size),          generator=g) * 0.01\n",
    "b2 = torch.randn(vocab_size,                      generator=g) * 0\n",
    "bngain = torch.randn((1, n_hidden))\n",
    "bnbiase = torch.randn((1, n_hidden))\n",
    "\n",
    "bnmean_running = torch.zeros((1, n_hidden))\n",
    "bnstd_running = torch.ones((1, n_hidden))\n",
    "parameters = [C, W1, W2, b2, bngain, bnbiase]\n",
    "print(sum(p.nelement() for p in parameters)) # number of parameters in total\n",
    "for p in parameters:\n",
    "  p.requires_grad = True\n"
   ]
  },
  {
   "cell_type": "code",
   "execution_count": 15,
   "id": "31bfd4d8-7e33-45f1-971f-28e24418acfc",
   "metadata": {},
   "outputs": [
    {
     "name": "stdout",
     "output_type": "stream",
     "text": [
      "      0/ 200000: 3.3394\n",
      "  10000/ 200000: 2.1205\n",
      "  20000/ 200000: 2.3394\n",
      "  30000/ 200000: 2.5457\n",
      "  40000/ 200000: 2.3680\n",
      "  50000/ 200000: 2.6140\n",
      "  60000/ 200000: 1.7964\n",
      "  70000/ 200000: 1.7396\n",
      "  80000/ 200000: 2.1527\n",
      "  90000/ 200000: 2.1751\n",
      " 100000/ 200000: 2.0468\n",
      " 110000/ 200000: 1.9158\n",
      " 120000/ 200000: 2.0710\n",
      " 130000/ 200000: 2.0396\n",
      " 140000/ 200000: 2.0629\n",
      " 150000/ 200000: 1.8329\n",
      " 160000/ 200000: 1.8812\n",
      " 170000/ 200000: 1.9269\n",
      " 180000/ 200000: 2.2210\n",
      " 190000/ 200000: 1.8345\n"
     ]
    }
   ],
   "source": [
    "# same optimization as last time\n",
    "max_steps = 200000\n",
    "batch_size = 32\n",
    "lossi = []\n",
    "\n",
    "for i in range(max_steps):\n",
    "\n",
    "    # minibatch construct\n",
    "    ix = torch.randint(0, Xtr.shape[0], (batch_size,), generator=g)\n",
    "    Xb, Yb = Xtr[ix], Ytr[ix] # batch X,Y\n",
    "    \n",
    "    # forward pass\n",
    "    emb = C[Xb] # embed the characters into vectors\n",
    "    embcat = emb.view(emb.shape[0], -1) # concatenate the vectors\n",
    "    # Linear layer\n",
    "    hpreact = embcat @ W1 + b1 #+ b1 # hidden layer pre-activation\n",
    "    # Non-linearity\n",
    "    h = torch.tanh(hpreact) # hidden layer\n",
    "    logits = h @ W2 + b2 # output layer\n",
    "    loss = F.cross_entropy(logits, Yb) # loss function\n",
    "    #print(loss)\n",
    "    \n",
    "    # backward pass\n",
    "    for p in parameters:\n",
    "        p.grad = None\n",
    "    loss.backward()\n",
    "    \n",
    "    # update\n",
    "    lr = 0.1 if i < 100000 else 0.01 # step learning rate decay\n",
    "    for p in parameters:\n",
    "        #print(p.grad)\n",
    "        p.data += -lr*p.grad\n",
    "    \n",
    "    # track stats\n",
    "    if i % 10000 == 0: # print every once in a while\n",
    "        print(f'{i:7d}/{max_steps:7d}: {loss.item():.4f}')\n",
    "    lossi.append(loss.log10().item())"
   ]
  },
  {
   "cell_type": "code",
   "execution_count": 16,
   "id": "df2e1304-8bf6-4505-8b15-c40e5ad8646b",
   "metadata": {},
   "outputs": [
    {
     "name": "stdout",
     "output_type": "stream",
     "text": [
      "2.007805585861206\n"
     ]
    }
   ],
   "source": [
    "with torch.no_grad():\n",
    "    emb = C[Xtr] # embed the characters into vectors\n",
    "    embcat = emb.view(emb.shape[0], -1) # concatenate the vectors\n",
    "    # Linear layer\n",
    "    hpreact = embcat @ W1 #+ b1 # hidden layer pre-activation\n",
    "    # Non-linearity\n",
    "    h = torch.tanh(hpreact) # hidden layer\n",
    "    logits = h @ W2 + b2 # output layer\n",
    "    loss = F.cross_entropy(logits, Ytr) # loss function\n",
    "print(loss.item())"
   ]
  },
  {
   "cell_type": "code",
   "execution_count": 18,
   "id": "94caee80-359a-4a9a-aa98-e89782f9156e",
   "metadata": {},
   "outputs": [
    {
     "name": "stdout",
     "output_type": "stream",
     "text": [
      "2.3304409980773926\n"
     ]
    }
   ],
   "source": [
    "with torch.no_grad():\n",
    "    emb = C[Xval] # embed the characters into vectors\n",
    "    embcat = emb.view(emb.shape[0], -1) # concatenate the vectors\n",
    "    # Linear layer\n",
    "    hpreact = embcat @ W1 #+ b1 # hidden layer pre-activation\n",
    "    # Non-linearity\n",
    "    h = torch.tanh(hpreact) # hidden layer\n",
    "    logits = h @ W2 + b2 # output layer\n",
    "    loss = F.cross_entropy(logits, Yval) # loss function\n",
    "print(loss.item())"
   ]
  },
  {
   "cell_type": "code",
   "execution_count": null,
   "id": "55f630bb-50b4-4663-9872-6b8dd8d782f5",
   "metadata": {},
   "outputs": [],
   "source": [
    "# same optimization as last time\n",
    "max_steps = 200000\n",
    "batch_size = 32\n",
    "lossi = []\n",
    "\n",
    "for i in range(max_steps):\n",
    "\n",
    "    # minibatch construct\n",
    "    ix = torch.randint(0, Xtr.shape[0], (batch_size,), generator=g)\n",
    "    Xb, Yb = Xtr[ix], Ytr[ix] # batch X,Y\n",
    "    \n",
    "    # forward pass\n",
    "    emb = C[Xb] # embed the characters into vectors\n",
    "    embcat = emb.view(emb.shape[0], -1) # concatenate the vectors\n",
    "    # Linear layer\n",
    "    hpreact = embcat @ W1 + b1 #+ b1 # hidden layer pre-activation\n",
    "    # batch normalization linear\n",
    "\n",
    "    bnmean_i = hpreact.mean(0, keepdim=True)\n",
    "    bnstd_i = hpreact.std(0, keepdim=True)\n",
    "    hpreact = bngrain*((hpreact - bmean_i)/bnstd_i) + bnbiase\n",
    "    with torch.no_grad():\n",
    "        bnmean_running = bnmean_running*0.999 + bnmean_i*0.001\n",
    "        bnstd_running = bnstd_running*0.999 + bstd_i*0.001\n",
    "    \n",
    "    # Non-linearity\n",
    "    h = torch.tanh(hpreact) # hidden layer\n",
    "    logits = h @ W2 + b2 # output layer\n",
    "    loss = F.cross_entropy(logits, Yb) # loss function\n",
    "    #print(loss)\n",
    "    \n",
    "    # backward pass\n",
    "    for p in parameters:\n",
    "        p.grad = None\n",
    "    loss.backward()\n",
    "    \n",
    "    # update\n",
    "    lr = 0.1 if i < 100000 else 0.01 # step learning rate decay\n",
    "    for p in parameters:\n",
    "        #print(p.grad)\n",
    "        p.data += -lr*p.grad\n",
    "    \n",
    "    # track stats\n",
    "    if i % 10000 == 0: # print every once in a while\n",
    "        print(f'{i:7d}/{max_steps:7d}: {loss.item():.4f}')\n",
    "    lossi.append(loss.log10().item())"
   ]
  },
  {
   "cell_type": "markdown",
   "id": "667960dd-2c78-46ba-8c0b-35418fe31dc1",
   "metadata": {},
   "source": [
    "# Initialize the Model\n",
    "- initialize the generator using torch.Generator().manual_seed(number)\n",
    "- Initialize the the embedding matrix C\n",
    "- "
   ]
  },
  {
   "cell_type": "code",
   "execution_count": 12,
   "id": "e802a801-7f15-4ebe-8086-03042b8ec98f",
   "metadata": {},
   "outputs": [
    {
     "ename": "NameError",
     "evalue": "name 'vocab_size' is not defined",
     "output_type": "error",
     "traceback": [
      "\u001b[0;31m---------------------------------------------------------------------------\u001b[0m",
      "\u001b[0;31mNameError\u001b[0m                                 Traceback (most recent call last)",
      "Cell \u001b[0;32mIn[12], line 2\u001b[0m\n\u001b[1;32m      1\u001b[0m g \u001b[38;5;241m=\u001b[39m torch\u001b[38;5;241m.\u001b[39mGenerator()\u001b[38;5;241m.\u001b[39mmanual_seed(\u001b[38;5;241m2147483647\u001b[39m)\n\u001b[0;32m----> 2\u001b[0m C \u001b[38;5;241m=\u001b[39m torch\u001b[38;5;241m.\u001b[39mrandn((\u001b[43mvocab_size\u001b[49m,emb_dim), generator\u001b[38;5;241m=\u001b[39mg)\n\u001b[1;32m      3\u001b[0m W1 \u001b[38;5;241m=\u001b[39m torch\u001b[38;5;241m.\u001b[39mrandn((Input_data\u001b[38;5;241m.\u001b[39mshape[\u001b[38;5;241m1\u001b[39m]\u001b[38;5;241m*\u001b[39memb_dim, layers_dim[\u001b[38;5;241m0\u001b[39m] ), generator\u001b[38;5;241m=\u001b[39mg)\u001b[38;5;241m*\u001b[39m (\u001b[38;5;241m5\u001b[39m\u001b[38;5;241m/\u001b[39m\u001b[38;5;241m3\u001b[39m)\u001b[38;5;241m*\u001b[39m (Input_data\u001b[38;5;241m.\u001b[39mshape[\u001b[38;5;241m1\u001b[39m]\u001b[38;5;241m*\u001b[39memb_dim)\n\u001b[1;32m      4\u001b[0m \u001b[38;5;66;03m# print(W1.shape)\u001b[39;00m\n",
      "\u001b[0;31mNameError\u001b[0m: name 'vocab_size' is not defined"
     ]
    }
   ],
   "source": [
    "g = torch.Generator().manual_seed(2147483647)\n",
    "C = torch.randn((vocab_size,emb_dim), generator=g)\n",
    "W1 = torch.randn((Input_data.shape[1]*emb_dim, layers_dim[0] ), generator=g)* (5/3)* (Input_data.shape[1]*emb_dim)\n",
    "# print(W1.shape)\n",
    "b1 = torch.randn(layers_dim[0], generator=g)*0.01\n",
    "\n",
    "W2 = torch.randn((layers_dim[0],vocab_size), generator=g)*0.01\n",
    "b2 = torch.randn(vocab_size, generator=g)*0\n",
    "bngain = torch.randn(1, layers_dim[0])\n",
    "bnbiase = torch.randn(1, layers_dim[0])"
   ]
  },
  {
   "cell_type": "code",
   "execution_count": 18,
   "id": "f65dd426-c0e2-4968-82b2-8f10c68cfb08",
   "metadata": {},
   "outputs": [
    {
     "name": "stdout",
     "output_type": "stream",
     "text": [
      "mean -0.00463865976780653, std: 0.999657928943634\n",
      "mean: 0.0006201325450092554, str: 0.9699788689613342\n"
     ]
    },
    {
     "data": {
      "image/png": "[encoded data removed]",
      "text/plain": [
       "<Figure size 5000x500 with 2 Axes>"
      ]
     },
     "metadata": {},
     "output_type": "display_data"
    }
   ],
   "source": [
    "# x = torch.randn(10000,10)\n",
    "# w = torch.randn(10,200)/ 10**0.5 # divide sqareroot 10\n",
    "# y = x @ w\n",
    "\n",
    "\n",
    "# a = torch.tanh(y)\n",
    "# # print(y.shape)\n",
    "# print(f'mean {x.mean()}, std: {x.std()}')\n",
    "# print(f'mean: {y.mean()}, str: {y.std()}')\n",
    "# plt.figure(figsize=(50,5))\n",
    "# plt.subplot(121)\n",
    "# plt.hist(a.view(-1).tolist(), 50, density=True)\n",
    "\n",
    "# plt.subplot(122)\n",
    "# plt.hist(y.view(-1).tolist(), 50, density=True);"
   ]
  },
  {
   "cell_type": "code",
   "execution_count": null,
   "id": "0e419338-c6f2-443a-ab2f-8a21726fef2e",
   "metadata": {},
   "outputs": [],
   "source": []
  },
  {
   "cell_type": "code",
   "execution_count": 17,
   "id": "ec0a501c-52d4-4eee-aad4-c2a7d1998750",
   "metadata": {},
   "outputs": [],
   "source": [
    "# Forward Pass \n",
    "emb = parameters[0][X]   # Calculating The Embedding for each input\n",
    "emb_cat = emb.view(-1,30)  # Reshapping the embedding matrix\n",
    "preact  = emb_cat  @ parameters[1] + parameters[2]\n",
    "a1 = torch.tanh(preact)\n",
    "logits = a1 @ parameters[3] + parameters[4]\n",
    "logits,a1, preact"
   ]
  },
  {
   "cell_type": "code",
   "execution_count": 30,
   "id": "640181e1-49dd-45d6-a5d3-acedd96b9435",
   "metadata": {},
   "outputs": [],
   "source": [
    "for p in parameters:\n",
    "    p.requires_grad = True"
   ]
  },
  {
   "cell_type": "markdown",
   "id": "0bb5b8d1-c381-414d-902d-92061f875899",
   "metadata": {},
   "source": [
    "# A very in-depth explination of how the tanh function issues of vanishing the gradient flow due to that most of its post activation values are closer to 1 and -1. and during backpropagation (1 - t**2).out.grad, (t is closer to -1 or 1) vanishes the gradients flowing backward towards the paramters #"
   ]
  },
  {
   "cell_type": "code",
   "execution_count": 21,
   "id": "1f04487a-ea55-4590-8d96-56876e8a4805",
   "metadata": {},
   "outputs": [
    {
     "ename": "RuntimeError",
     "evalue": "element 0 of tensors does not require grad and does not have a grad_fn",
     "output_type": "error",
     "traceback": [
      "\u001b[0;31m---------------------------------------------------------------------------\u001b[0m",
      "\u001b[0;31mRuntimeError\u001b[0m                              Traceback (most recent call last)",
      "Cell \u001b[0;32mIn[21], line 53\u001b[0m\n\u001b[1;32m     50\u001b[0m     p\u001b[38;5;241m.\u001b[39mgrad \u001b[38;5;241m=\u001b[39m \u001b[38;5;28;01mNone\u001b[39;00m\n\u001b[1;32m     52\u001b[0m \u001b[38;5;66;03m# calculate the gradients\u001b[39;00m\n\u001b[0;32m---> 53\u001b[0m \u001b[43mloss\u001b[49m\u001b[38;5;241;43m.\u001b[39;49m\u001b[43mbackward\u001b[49m\u001b[43m(\u001b[49m\u001b[43m)\u001b[49m\n\u001b[1;32m     55\u001b[0m \u001b[38;5;66;03m#Gradient Descent\u001b[39;00m\n\u001b[1;32m     56\u001b[0m lr \u001b[38;5;241m=\u001b[39m [\u001b[38;5;241m0.1\u001b[39m,\u001b[38;5;241m0.01\u001b[39m]\n",
      "File \u001b[0;32m~/anaconda3/envs/genAI/lib/python3.9/site-packages/torch/_tensor.py:525\u001b[0m, in \u001b[0;36mTensor.backward\u001b[0;34m(self, gradient, retain_graph, create_graph, inputs)\u001b[0m\n\u001b[1;32m    515\u001b[0m \u001b[38;5;28;01mif\u001b[39;00m has_torch_function_unary(\u001b[38;5;28mself\u001b[39m):\n\u001b[1;32m    516\u001b[0m     \u001b[38;5;28;01mreturn\u001b[39;00m handle_torch_function(\n\u001b[1;32m    517\u001b[0m         Tensor\u001b[38;5;241m.\u001b[39mbackward,\n\u001b[1;32m    518\u001b[0m         (\u001b[38;5;28mself\u001b[39m,),\n\u001b[0;32m   (...)\u001b[0m\n\u001b[1;32m    523\u001b[0m         inputs\u001b[38;5;241m=\u001b[39minputs,\n\u001b[1;32m    524\u001b[0m     )\n\u001b[0;32m--> 525\u001b[0m \u001b[43mtorch\u001b[49m\u001b[38;5;241;43m.\u001b[39;49m\u001b[43mautograd\u001b[49m\u001b[38;5;241;43m.\u001b[39;49m\u001b[43mbackward\u001b[49m\u001b[43m(\u001b[49m\n\u001b[1;32m    526\u001b[0m \u001b[43m    \u001b[49m\u001b[38;5;28;43mself\u001b[39;49m\u001b[43m,\u001b[49m\u001b[43m \u001b[49m\u001b[43mgradient\u001b[49m\u001b[43m,\u001b[49m\u001b[43m \u001b[49m\u001b[43mretain_graph\u001b[49m\u001b[43m,\u001b[49m\u001b[43m \u001b[49m\u001b[43mcreate_graph\u001b[49m\u001b[43m,\u001b[49m\u001b[43m \u001b[49m\u001b[43minputs\u001b[49m\u001b[38;5;241;43m=\u001b[39;49m\u001b[43minputs\u001b[49m\n\u001b[1;32m    527\u001b[0m \u001b[43m\u001b[49m\u001b[43m)\u001b[49m\n",
      "File \u001b[0;32m~/anaconda3/envs/genAI/lib/python3.9/site-packages/torch/autograd/__init__.py:267\u001b[0m, in \u001b[0;36mbackward\u001b[0;34m(tensors, grad_tensors, retain_graph, create_graph, grad_variables, inputs)\u001b[0m\n\u001b[1;32m    262\u001b[0m     retain_graph \u001b[38;5;241m=\u001b[39m create_graph\n\u001b[1;32m    264\u001b[0m \u001b[38;5;66;03m# The reason we repeat the same comment below is that\u001b[39;00m\n\u001b[1;32m    265\u001b[0m \u001b[38;5;66;03m# some Python versions print out the first line of a multi-line function\u001b[39;00m\n\u001b[1;32m    266\u001b[0m \u001b[38;5;66;03m# calls in the traceback and some print out the last line\u001b[39;00m\n\u001b[0;32m--> 267\u001b[0m \u001b[43m_engine_run_backward\u001b[49m\u001b[43m(\u001b[49m\n\u001b[1;32m    268\u001b[0m \u001b[43m    \u001b[49m\u001b[43mtensors\u001b[49m\u001b[43m,\u001b[49m\n\u001b[1;32m    269\u001b[0m \u001b[43m    \u001b[49m\u001b[43mgrad_tensors_\u001b[49m\u001b[43m,\u001b[49m\n\u001b[1;32m    270\u001b[0m \u001b[43m    \u001b[49m\u001b[43mretain_graph\u001b[49m\u001b[43m,\u001b[49m\n\u001b[1;32m    271\u001b[0m \u001b[43m    \u001b[49m\u001b[43mcreate_graph\u001b[49m\u001b[43m,\u001b[49m\n\u001b[1;32m    272\u001b[0m \u001b[43m    \u001b[49m\u001b[43minputs\u001b[49m\u001b[43m,\u001b[49m\n\u001b[1;32m    273\u001b[0m \u001b[43m    \u001b[49m\u001b[43mallow_unreachable\u001b[49m\u001b[38;5;241;43m=\u001b[39;49m\u001b[38;5;28;43;01mTrue\u001b[39;49;00m\u001b[43m,\u001b[49m\n\u001b[1;32m    274\u001b[0m \u001b[43m    \u001b[49m\u001b[43maccumulate_grad\u001b[49m\u001b[38;5;241;43m=\u001b[39;49m\u001b[38;5;28;43;01mTrue\u001b[39;49;00m\u001b[43m,\u001b[49m\n\u001b[1;32m    275\u001b[0m \u001b[43m\u001b[49m\u001b[43m)\u001b[49m\n",
      "File \u001b[0;32m~/anaconda3/envs/genAI/lib/python3.9/site-packages/torch/autograd/graph.py:744\u001b[0m, in \u001b[0;36m_engine_run_backward\u001b[0;34m(t_outputs, *args, **kwargs)\u001b[0m\n\u001b[1;32m    742\u001b[0m     unregister_hooks \u001b[38;5;241m=\u001b[39m _register_logging_hooks_on_whole_graph(t_outputs)\n\u001b[1;32m    743\u001b[0m \u001b[38;5;28;01mtry\u001b[39;00m:\n\u001b[0;32m--> 744\u001b[0m     \u001b[38;5;28;01mreturn\u001b[39;00m \u001b[43mVariable\u001b[49m\u001b[38;5;241;43m.\u001b[39;49m\u001b[43m_execution_engine\u001b[49m\u001b[38;5;241;43m.\u001b[39;49m\u001b[43mrun_backward\u001b[49m\u001b[43m(\u001b[49m\u001b[43m  \u001b[49m\u001b[38;5;66;43;03m# Calls into the C++ engine to run the backward pass\u001b[39;49;00m\n\u001b[1;32m    745\u001b[0m \u001b[43m        \u001b[49m\u001b[43mt_outputs\u001b[49m\u001b[43m,\u001b[49m\u001b[43m \u001b[49m\u001b[38;5;241;43m*\u001b[39;49m\u001b[43margs\u001b[49m\u001b[43m,\u001b[49m\u001b[43m \u001b[49m\u001b[38;5;241;43m*\u001b[39;49m\u001b[38;5;241;43m*\u001b[39;49m\u001b[43mkwargs\u001b[49m\n\u001b[1;32m    746\u001b[0m \u001b[43m    \u001b[49m\u001b[43m)\u001b[49m  \u001b[38;5;66;03m# Calls into the C++ engine to run the backward pass\u001b[39;00m\n\u001b[1;32m    747\u001b[0m \u001b[38;5;28;01mfinally\u001b[39;00m:\n\u001b[1;32m    748\u001b[0m     \u001b[38;5;28;01mif\u001b[39;00m attach_logging_hooks:\n",
      "\u001b[0;31mRuntimeError\u001b[0m: element 0 of tensors does not require grad and does not have a grad_fn"
     ]
    }
   ],
   "source": [
    "import random\n",
    "context_len = 3\n",
    "data_path = 'names.txt'\n",
    "vocab_size = 27\n",
    "emb_dim=10\n",
    "layers_dim = [300,27]\n",
    "epochs = 90000\n",
    "dataset = build_dataset(words)\n",
    "Xtr,Ytr = dataset['train']\n",
    "Xval, Yval = dataset['val']\n",
    "Xtest, Ytest = dataset['test']\n",
    "\n",
    "\n",
    "g = torch.Generator().manual_seed(2147483647)\n",
    "C = torch.randn((vocab_size,emb_dim), generator=g)\n",
    "W1 = torch.randn((Xtr.shape[1]*emb_dim, layers_dim[0] ), generator=g)* (5/3)* (Xtr.shape[1]*emb_dim)\n",
    "# print(W1.shape)\n",
    "b1 = torch.randn(layers_dim[0], generator=g)*0.01\n",
    "\n",
    "W2 = torch.randn((layers_dim[0],vocab_size), generator=g)*0.01\n",
    "b2 = torch.randn(vocab_size, generator=g)*0\n",
    "bngain = torch.randn(1, layers_dim[0])\n",
    "bnbiase = torch.randn(1, layers_dim[0])\n",
    "parameters = [C,W1,b1,W2,b2, bngain, bnbiase]\n",
    "# num_examples = len(X)\n",
    "# Xtr,Xval,Xtest = X[0:int(0.7*num_examples)], X[int(0.7*num_examples):int(0.9*num_examples)], X[int(0.9*num_examples): num_examples]\n",
    "# Ytr,Yval,Ytest = Y[0:int(0.7*num_examples)], Y[int(0.7*num_examples):int(0.9*num_examples)], Y[int(0.9*num_examples): num_examples]\n",
    "\n",
    "# print(Xtr.shape, Ytr.shape)\n",
    "# parameters = initialize_model(vocab_size, emb_dim, Xtr, layers_dim = layers_dim)\n",
    "# parameters = requires_grad(parameters)\n",
    "# print(X.shape)\n",
    "# print(Y.shape)\n",
    "\n",
    "lre = torch.linspace(-3,0, epochs)\n",
    "lrr = 10**lre\n",
    "\n",
    "#Forward Pass\n",
    "lri = []\n",
    "lossi = []\n",
    "stepi = []\n",
    "for i in range(epochs):\n",
    "    ix = torch.randint(0, Xtr.shape[0], (32,))\n",
    "    # print(Xtr[ix].shape)\n",
    "    logits,a1, preact = model(Xtr[ix], parameters)\n",
    "    # print(logits.shape)\n",
    "    # Calculate Loss\n",
    "    loss = F.cross_entropy(logits, Ytr[ix])\n",
    "    for p in parameters:\n",
    "        p.grad = None\n",
    "    \n",
    "    # calculate the gradients\n",
    "    loss.backward()\n",
    "    \n",
    "    #Gradient Descent\n",
    "    lr = [0.1,0.01]\n",
    "    if i<=30000:\n",
    "        lr = lr[0]\n",
    "    else:\n",
    "        lr = lr[1]\n",
    "    for p in parameters:\n",
    "        p.data += -lr*p.grad\n",
    "    lossi.append(loss.log10().item())\n",
    "    lri.append(lr)\n",
    "    stepi.append(i)\n",
    "    # break\n",
    "print(loss.item())\n"
   ]
  },
  {
   "cell_type": "code",
   "execution_count": 9,
   "id": "32c72357-4bc6-453c-9729-37d8c7741527",
   "metadata": {},
   "outputs": [
    {
     "data": {
      "text/plain": [
       "[<matplotlib.lines.Line2D at 0x7f9afdd65ac0>]"
      ]
     },
     "execution_count": 9,
     "metadata": {},
     "output_type": "execute_result"
    },
    {
     "data": {
      "image/png": "[encoded data removed]",
      "text/plain": [
       "<Figure size 640x480 with 1 Axes>"
      ]
     },
     "metadata": {},
     "output_type": "display_data"
    }
   ],
   "source": []
  },
  {
   "cell_type": "code",
   "execution_count": 184,
   "id": "686ce683-311e-4382-9eb8-b6c032976fef",
   "metadata": {},
   "outputs": [
    {
     "data": {
      "text/plain": [
       "<matplotlib.image.AxesImage at 0x7fd2a27c4220>"
      ]
     },
     "execution_count": 184,
     "metadata": {},
     "output_type": "execute_result"
    },
    {
     "data": {
      "image/png": "[encoded data removed]",
      "text/plain": [
       "<Figure size 2000x1000 with 1 Axes>"
      ]
     },
     "metadata": {},
     "output_type": "display_data"
    }
   ],
   "source": [
    "plt.figure(figsize = (20,10))\n",
    "plt.imshow(h.abs() > 0.99, cmap='gray', interpolation='nearest')"
   ]
  },
  {
   "cell_type": "code",
   "execution_count": 185,
   "id": "45393d0f-a476-44d0-98b8-f60686ac53b0",
   "metadata": {},
   "outputs": [
    {
     "data": {
      "image/png": "[encoded data removed]",
      "text/plain": [
       "<Figure size 640x480 with 1 Axes>"
      ]
     },
     "metadata": {},
     "output_type": "display_data"
    }
   ],
   "source": [
    "# logits[0]\n",
    "\n",
    "plt.hist(h.view(-1).tolist(),50);\n"
   ]
  },
  {
   "cell_type": "code",
   "execution_count": 186,
   "id": "100a4b04-b371-41fc-81a4-e086ca9c62de",
   "metadata": {},
   "outputs": [
    {
     "data": {
      "image/png": "[encoded data removed]",
      "text/plain": [
       "<Figure size 640x480 with 1 Axes>"
      ]
     },
     "metadata": {},
     "output_type": "display_data"
    }
   ],
   "source": [
    "plt.hist(preact.view(-1).tolist(),50);"
   ]
  },
  {
   "cell_type": "code",
   "execution_count": 187,
   "id": "05f158fd-70e7-417a-a758-f6647e706be9",
   "metadata": {},
   "outputs": [
    {
     "data": {
      "text/plain": [
       "[<matplotlib.lines.Line2D at 0x7fd29a6cae20>]"
      ]
     },
     "execution_count": 187,
     "metadata": {},
     "output_type": "execute_result"
    },
    {
     "data": {
      "image/png": "[encoded data removed]",
      "text/plain": [
       "<Figure size 640x480 with 1 Axes>"
      ]
     },
     "metadata": {},
     "output_type": "display_data"
    }
   ],
   "source": [
    "plt.plot(stepi, lossi)"
   ]
  },
  {
   "cell_type": "code",
   "execution_count": null,
   "id": "0be6662b-9529-47e8-bb61-38e16e7703ce",
   "metadata": {},
   "outputs": [],
   "source": []
  },
  {
   "cell_type": "code",
   "execution_count": 188,
   "id": "397a61be-5d71-4b1c-a3b3-fd6027039ed5",
   "metadata": {},
   "outputs": [
    {
     "data": {
      "text/plain": [
       "2.1141746044158936"
      ]
     },
     "execution_count": 188,
     "metadata": {},
     "output_type": "execute_result"
    }
   ],
   "source": [
    "logits,a1, preact = model(Xtr, parameters)\n",
    "loss = F.cross_entropy(logits, Ytr)\n",
    "loss.item()"
   ]
  },
  {
   "cell_type": "code",
   "execution_count": 189,
   "id": "79d85968-f0e9-4ac7-8965-cceea0c6151d",
   "metadata": {},
   "outputs": [
    {
     "data": {
      "text/plain": [
       "2.2523064613342285"
      ]
     },
     "execution_count": 189,
     "metadata": {},
     "output_type": "execute_result"
    }
   ],
   "source": [
    "logits,a1, preact = model(Xval, parameters)\n",
    "loss = F.cross_entropy(logits, Yval)\n",
    "loss.item()"
   ]
  },
  {
   "cell_type": "code",
   "execution_count": 190,
   "id": "3f44e5c9-77b5-4185-91cc-28c00bb73c7c",
   "metadata": {},
   "outputs": [
    {
     "data": {
      "text/plain": [
       "2.259568452835083"
      ]
     },
     "execution_count": 190,
     "metadata": {},
     "output_type": "execute_result"
    }
   ],
   "source": [
    "logits,a1, preact = model(Xtest, parameters)\n",
    "loss = F.cross_entropy(logits, Ytest)\n",
    "loss.item()"
   ]
  },
  {
   "cell_type": "code",
   "execution_count": 191,
   "id": "d2981dc4-82bf-4a7f-afbe-7b9fdc3cf40a",
   "metadata": {},
   "outputs": [
    {
     "data": {
      "text/plain": [
       "(tensor([ 0.2827, -0.0111, -0.4305,  0.1357]),\n",
       " tensor([0.3227, 0.2406, 0.1581, 0.2786]),\n",
       " tensor(1.8443))"
      ]
     },
     "execution_count": 191,
     "metadata": {},
     "output_type": "execute_result"
    }
   ],
   "source": [
    "# logits = torch.tensor([3.0,0.0,0.0,0.0])\n",
    "logits = torch.randn(4)\n",
    "probs = torch.softmax(logits, dim=0)\n",
    "loss = -probs[2].log()\n",
    "logits, probs, loss"
   ]
  },
  {
   "cell_type": "code",
   "execution_count": 192,
   "id": "979feb1c-7e9f-4412-bc2b-62e6cbd11a2e",
   "metadata": {},
   "outputs": [],
   "source": [
    "# This code was effect for the emb_dim=2\n",
    "# # plt.figure()\n",
    "# plt.figure(figsize=(8,8))\n",
    "# plt.scatter(parameters[0][:,0].data, parameters[0][:,1].data, s=200)\n",
    "# for i in range(parameters[0].shape[0]):\n",
    "#     plt.text(parameters[0][i,0].item(), parameters[0][i,1].item(), itos[i], ha='center', va='center', color='white')\n",
    "# plt.grid('minor')"
   ]
  },
  {
   "cell_type": "code",
   "execution_count": 195,
   "id": "f8faeed9-295a-4f39-92b1-91350a32fcd0",
   "metadata": {},
   "outputs": [
    {
     "name": "stdout",
     "output_type": "stream",
     "text": [
      "tensor([[nan, nan, nan, nan, nan, nan, nan, nan, nan, nan, nan, nan, nan, nan, nan, nan, nan, nan, nan, nan, nan, nan, nan, nan,\n",
      "         nan, nan, nan]], grad_fn=<AddBackward0>)\n"
     ]
    },
    {
     "name": "stderr",
     "output_type": "stream",
     "text": [
      "/tmp/ipykernel_3583/53290213.py:12: UserWarning: std(): degrees of freedom is <= 0. Correction should be strictly less than the reduction factor (input numel divided by output numel). (Triggered internally at ../aten/src/ATen/native/ReduceOps.cpp:1807.)\n",
      "  hpreact = (parameters[-2] * (preact - preact.mean(0, keepdim=True)) / preact.std(0, keepdim=True)) +  parameters[-1]\n"
     ]
    },
    {
     "ename": "RuntimeError",
     "evalue": "probability tensor contains either `inf`, `nan` or element < 0",
     "output_type": "error",
     "traceback": [
      "\u001b[0;31m---------------------------------------------------------------------------\u001b[0m",
      "\u001b[0;31mRuntimeError\u001b[0m                              Traceback (most recent call last)",
      "Cell \u001b[0;32mIn[195], line 17\u001b[0m\n\u001b[1;32m     15\u001b[0m \u001b[38;5;28mprint\u001b[39m(logits)\n\u001b[1;32m     16\u001b[0m probs \u001b[38;5;241m=\u001b[39m F\u001b[38;5;241m.\u001b[39msoftmax(logits ,dim\u001b[38;5;241m=\u001b[39m\u001b[38;5;241m1\u001b[39m)\n\u001b[0;32m---> 17\u001b[0m ix \u001b[38;5;241m=\u001b[39m \u001b[43mtorch\u001b[49m\u001b[38;5;241;43m.\u001b[39;49m\u001b[43mmultinomial\u001b[49m\u001b[43m(\u001b[49m\u001b[43mprobs\u001b[49m\u001b[43m,\u001b[49m\u001b[43m \u001b[49m\u001b[43mnum_samples\u001b[49m\u001b[38;5;241;43m=\u001b[39;49m\u001b[38;5;241;43m1\u001b[39;49m\u001b[43m,\u001b[49m\u001b[43m \u001b[49m\u001b[43mreplacement\u001b[49m\u001b[38;5;241;43m=\u001b[39;49m\u001b[38;5;28;43;01mTrue\u001b[39;49;00m\u001b[43m,\u001b[49m\u001b[43m \u001b[49m\u001b[43mgenerator\u001b[49m\u001b[38;5;241;43m=\u001b[39;49m\u001b[43mg\u001b[49m\u001b[43m)\u001b[49m\u001b[38;5;241m.\u001b[39mitem()\n\u001b[1;32m     18\u001b[0m context \u001b[38;5;241m=\u001b[39m context[\u001b[38;5;241m1\u001b[39m:] \u001b[38;5;241m+\u001b[39m [ix]\n\u001b[1;32m     19\u001b[0m out\u001b[38;5;241m.\u001b[39mappend(itos[ix])\n",
      "\u001b[0;31mRuntimeError\u001b[0m: probability tensor contains either `inf`, `nan` or element < 0"
     ]
    }
   ],
   "source": [
    "import torch\n",
    "g = torch.Generator().manual_seed(2147483647)\n",
    "stoi,itos, vocab_size = stoi_itos(words)\n",
    "for i in range(10):\n",
    "    ix = 0\n",
    "    out = []\n",
    "    block_size = 3\n",
    "    context = [0] * block_size \n",
    "    while True:\n",
    "        emb = parameters[0][torch.tensor([context])]\n",
    "        preact = emb.view(-1,30) @ parameters[1] + parameters[2]\n",
    "        hpreact = (parameters[-2] * (preact - preact.mean(0, keepdim=True)) / preact.std(0, keepdim=True)) +  parameters[-1]\n",
    "        a1 = torch.tanh(hpreact)\n",
    "        logits = a1 @ parameters[3] + parameters[4]\n",
    "        print(logits)\n",
    "        probs = F.softmax(logits ,dim=1)\n",
    "        ix = torch.multinomial(probs, num_samples=1, replacement=True, generator=g).item()\n",
    "        context = context[1:] + [ix]\n",
    "        out.append(itos[ix])\n",
    "        if ix==0:\n",
    "            break\n",
    "    print(''.join(out))"
   ]
  },
  {
   "cell_type": "code",
   "execution_count": 47,
   "id": "10ba49d8-4d90-432f-b0e1-1d05776a1803",
   "metadata": {},
   "outputs": [
    {
     "data": {
      "text/plain": [
       "tensor(3.2958)"
      ]
     },
     "execution_count": 47,
     "metadata": {},
     "output_type": "execute_result"
    }
   ],
   "source": [
    "-torch.tensor(1/27.0).log()"
   ]
  },
  {
   "cell_type": "markdown",
   "id": "337fdfa5-52ba-4013-92a9-bceba4924e06",
   "metadata": {},
   "source": [
    "loss log\n",
    "original:\n",
    "train 2.2464447021484375  val 2.3154795169830322\n",
    "\n",
    "fix softmax confidently wrong:\n",
    "train 1.8785254955291748 val 2.301603078842163\n",
    "\n",
    "fix tanh layer too saturated at init:\n",
    "train 2.007805585861206 val 2.3304409980773926\n",
    "\n",
    "use semi-principled \"kaiming init\" instead of hacky init:\n",
    "train 2.0376641750335693 val 2.106989622116089\n",
    "\n",
    "add batch norm layer\n",
    "train 2.0668270587921143 val 2.104844808578491"
   ]
  },
  {
   "cell_type": "code",
   "execution_count": null,
   "id": "886a9611-9f99-4705-a0bf-273c956e0704",
   "metadata": {},
   "outputs": [],
   "source": []
  }
 ],
 "metadata": {
  "kernelspec": {
   "display_name": "Python 3 (ipykernel)",
   "language": "python",
   "name": "python3"
  },
  "language_info": {
   "codemirror_mode": {
    "name": "ipython",
    "version": 3
   },
   "file_extension": ".py",
   "mimetype": "text/x-python",
   "name": "python",
   "nbconvert_exporter": "python",
   "pygments_lexer": "ipython3",
   "version": "3.9.19"
  }
 },
 "nbformat": 4,
 "nbformat_minor": 5
}
